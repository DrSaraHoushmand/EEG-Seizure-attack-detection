
   "cell_type": "markdown",
   "metadata": {},
   "source": [
    "# Import liberaries"
   ]
  },
  {
   "cell_type": "code",
   "execution_count": 1,
   "metadata": {},
   "outputs": [],
   "source": [
    "import numpy as np\n",
    "import mne\n",
    "import pandas as pd\n",
    "import re\n",
    "import matplotlib.pyplot as plt"
   ]
  },
  {
   "cell_type": "markdown",
   "metadata": {},
   "source": [
    "# Load data"
   ]
  },
  {
   "cell_type": "code",
   "execution_count": 2,
   "metadata": {},
   "outputs": [],
   "source": [
    "# colours for printing outputs\n",
    "class color:\n",
    "   PURPLE = '\\033[95m'\n",
    "   CYAN = '\\033[96m'\n",
    "   DARKCYAN = '\\033[36m'\n",
    "   BLUE = '\\033[94m'\n",
    "   GREEN = '\\033[92m'\n",
    "   YELLOW = '\\033[93m'\n",
    "   RED = '\\033[91m'\n",
    "   BOLD = '\\033[1m'\n",
    "   UNDERLINE = '\\033[4m'\n",
    "   END = '\\033[0m'\n",
    "  \n",
    "\n"
   ]
  },
  {
   "cell_type": "code",
   "execution_count": 3,
   "metadata": {
    "scrolled": true
   },
   "outputs": [
    {
     "data": {
      "text/html": [
       "<div>\n",
       "<style scoped>\n",
       "    .dataframe tbody tr th:only-of-type {\n",
       "        vertical-align: middle;\n",
       "    }\n",
       "\n",
       "    .dataframe tbody tr th {\n",
       "        vertical-align: top;\n",
       "    }\n",
       "\n",
       "    .dataframe thead th {\n",
       "        text-align: right;\n",
       "    }\n",
       "</style>\n",
       "<table border=\"1\" class=\"dataframe\">\n",
       "  <thead>\n",
       "    <tr style=\"text-align: right;\">\n",
       "      <th></th>\n",
       "      <th>train_01</th>\n",
       "      <th>train_02</th>\n",
       "      <th>train_03</th>\n",
       "      <th>train_04</th>\n",
       "      <th>train_05</th>\n",
       "      <th>train_06</th>\n",
       "      <th>train_07</th>\n",
       "      <th>train_08</th>\n",
       "      <th>train_09</th>\n",
       "      <th>train_10</th>\n",
       "      <th>train_11</th>\n",
       "      <th>train_12</th>\n",
       "      <th>train_13</th>\n",
       "      <th>train_14</th>\n",
       "      <th>train_15</th>\n",
       "      <th>train_16</th>\n",
       "    </tr>\n",
       "  </thead>\n",
       "  <tbody>\n",
       "    <tr>\n",
       "      <th>0</th>\n",
       "      <td>-2.048142</td>\n",
       "      <td>-4.098955</td>\n",
       "      <td>-10.934997</td>\n",
       "      <td>0.680934</td>\n",
       "      <td>-4.782559</td>\n",
       "      <td>-3.415351</td>\n",
       "      <td>-19.821852</td>\n",
       "      <td>-3.415351</td>\n",
       "      <td>-12.649347</td>\n",
       "      <td>-10.934997</td>\n",
       "      <td>-20.510796</td>\n",
       "      <td>-11.623941</td>\n",
       "      <td>-58.103683</td>\n",
       "      <td>2.048142</td>\n",
       "      <td>38.962770</td>\n",
       "      <td>2.048142</td>\n",
       "    </tr>\n",
       "    <tr>\n",
       "      <th>1</th>\n",
       "      <td>-3.415351</td>\n",
       "      <td>-8.200580</td>\n",
       "      <td>-13.669414</td>\n",
       "      <td>-2.731746</td>\n",
       "      <td>-6.149767</td>\n",
       "      <td>-5.466163</td>\n",
       "      <td>-16.403830</td>\n",
       "      <td>-2.731746</td>\n",
       "      <td>-4.440757</td>\n",
       "      <td>-10.934997</td>\n",
       "      <td>-10.934997</td>\n",
       "      <td>-12.985809</td>\n",
       "      <td>-16.403830</td>\n",
       "      <td>1.364538</td>\n",
       "      <td>40.329975</td>\n",
       "      <td>2.048142</td>\n",
       "    </tr>\n",
       "    <tr>\n",
       "      <th>2</th>\n",
       "      <td>-3.415351</td>\n",
       "      <td>-12.302205</td>\n",
       "      <td>-8.884184</td>\n",
       "      <td>-6.149767</td>\n",
       "      <td>-5.466163</td>\n",
       "      <td>-5.466163</td>\n",
       "      <td>-12.302205</td>\n",
       "      <td>-2.731746</td>\n",
       "      <td>3.757153</td>\n",
       "      <td>-11.623941</td>\n",
       "      <td>-2.048142</td>\n",
       "      <td>-11.623941</td>\n",
       "      <td>47.166020</td>\n",
       "      <td>2.048142</td>\n",
       "      <td>38.962770</td>\n",
       "      <td>3.415351</td>\n",
       "    </tr>\n",
       "    <tr>\n",
       "      <th>3</th>\n",
       "      <td>-2.048142</td>\n",
       "      <td>-15.036622</td>\n",
       "      <td>-4.782559</td>\n",
       "      <td>-7.522316</td>\n",
       "      <td>-6.149767</td>\n",
       "      <td>-5.466163</td>\n",
       "      <td>-9.573129</td>\n",
       "      <td>-2.048142</td>\n",
       "      <td>1.022736</td>\n",
       "      <td>-11.623941</td>\n",
       "      <td>6.149767</td>\n",
       "      <td>-8.884184</td>\n",
       "      <td>75.877396</td>\n",
       "      <td>4.098955</td>\n",
       "      <td>38.279163</td>\n",
       "      <td>2.731746</td>\n",
       "    </tr>\n",
       "    <tr>\n",
       "      <th>4</th>\n",
       "      <td>-1.364538</td>\n",
       "      <td>-16.062027</td>\n",
       "      <td>-4.098955</td>\n",
       "      <td>-6.833372</td>\n",
       "      <td>-3.415351</td>\n",
       "      <td>-5.466163</td>\n",
       "      <td>-11.623941</td>\n",
       "      <td>-3.415351</td>\n",
       "      <td>-4.782559</td>\n",
       "      <td>-12.302205</td>\n",
       "      <td>12.302205</td>\n",
       "      <td>-6.833372</td>\n",
       "      <td>68.357750</td>\n",
       "      <td>6.149767</td>\n",
       "      <td>41.697186</td>\n",
       "      <td>1.364538</td>\n",
       "    </tr>\n",
       "    <tr>\n",
       "      <th>...</th>\n",
       "      <td>...</td>\n",
       "      <td>...</td>\n",
       "      <td>...</td>\n",
       "      <td>...</td>\n",
       "      <td>...</td>\n",
       "      <td>...</td>\n",
       "      <td>...</td>\n",
       "      <td>...</td>\n",
       "      <td>...</td>\n",
       "      <td>...</td>\n",
       "      <td>...</td>\n",
       "      <td>...</td>\n",
       "      <td>...</td>\n",
       "      <td>...</td>\n",
       "      <td>...</td>\n",
       "      <td>...</td>\n",
       "    </tr>\n",
       "    <tr>\n",
       "      <th>307195</th>\n",
       "      <td>-10.934997</td>\n",
       "      <td>11.618601</td>\n",
       "      <td>-4.098955</td>\n",
       "      <td>-4.098955</td>\n",
       "      <td>17.771038</td>\n",
       "      <td>-15.720226</td>\n",
       "      <td>-4.782559</td>\n",
       "      <td>-2.048142</td>\n",
       "      <td>14.011215</td>\n",
       "      <td>-99.119934</td>\n",
       "      <td>4.782559</td>\n",
       "      <td>-8.884184</td>\n",
       "      <td>-8.200580</td>\n",
       "      <td>-20.510796</td>\n",
       "      <td>0.680934</td>\n",
       "      <td>-2.048142</td>\n",
       "    </tr>\n",
       "    <tr>\n",
       "      <th>307196</th>\n",
       "      <td>-10.934997</td>\n",
       "      <td>13.669414</td>\n",
       "      <td>-3.415351</td>\n",
       "      <td>-4.098955</td>\n",
       "      <td>12.985809</td>\n",
       "      <td>-17.087435</td>\n",
       "      <td>-4.098955</td>\n",
       "      <td>-2.731746</td>\n",
       "      <td>11.960402</td>\n",
       "      <td>-102.537960</td>\n",
       "      <td>10.934997</td>\n",
       "      <td>-8.200580</td>\n",
       "      <td>-79.979020</td>\n",
       "      <td>-21.189060</td>\n",
       "      <td>1.364538</td>\n",
       "      <td>-0.680934</td>\n",
       "    </tr>\n",
       "    <tr>\n",
       "      <th>307197</th>\n",
       "      <td>-11.623941</td>\n",
       "      <td>14.011215</td>\n",
       "      <td>-3.415351</td>\n",
       "      <td>-4.782559</td>\n",
       "      <td>12.302205</td>\n",
       "      <td>-15.036622</td>\n",
       "      <td>-2.048142</td>\n",
       "      <td>-6.149767</td>\n",
       "      <td>4.782559</td>\n",
       "      <td>-108.006790</td>\n",
       "      <td>11.618601</td>\n",
       "      <td>-6.833372</td>\n",
       "      <td>-127.831314</td>\n",
       "      <td>-21.872663</td>\n",
       "      <td>5.466163</td>\n",
       "      <td>-1.364538</td>\n",
       "    </tr>\n",
       "    <tr>\n",
       "      <th>307198</th>\n",
       "      <td>-10.934997</td>\n",
       "      <td>12.644007</td>\n",
       "      <td>-3.415351</td>\n",
       "      <td>-1.364538</td>\n",
       "      <td>11.618601</td>\n",
       "      <td>-12.302205</td>\n",
       "      <td>1.364538</td>\n",
       "      <td>-6.149767</td>\n",
       "      <td>-3.415351</td>\n",
       "      <td>-110.741200</td>\n",
       "      <td>4.782559</td>\n",
       "      <td>-2.048142</td>\n",
       "      <td>-102.537960</td>\n",
       "      <td>-21.189060</td>\n",
       "      <td>8.200580</td>\n",
       "      <td>-1.364538</td>\n",
       "    </tr>\n",
       "    <tr>\n",
       "      <th>307199</th>\n",
       "      <td>-9.573129</td>\n",
       "      <td>6.149767</td>\n",
       "      <td>-2.048142</td>\n",
       "      <td>0.680934</td>\n",
       "      <td>15.036622</td>\n",
       "      <td>-10.251392</td>\n",
       "      <td>0.002670</td>\n",
       "      <td>-5.466163</td>\n",
       "      <td>-6.149767</td>\n",
       "      <td>-108.690390</td>\n",
       "      <td>-6.149767</td>\n",
       "      <td>1.364538</td>\n",
       "      <td>-25.974289</td>\n",
       "      <td>-21.189060</td>\n",
       "      <td>9.567788</td>\n",
       "      <td>-4.782559</td>\n",
       "    </tr>\n",
       "  </tbody>\n",
       "</table>\n",
       "<p>307200 rows × 16 columns</p>\n",
       "</div>"
      ],
      "text/plain": [
       "         train_01   train_02   train_03  train_04   train_05   train_06  \\\n",
       "0       -2.048142  -4.098955 -10.934997  0.680934  -4.782559  -3.415351   \n",
       "1       -3.415351  -8.200580 -13.669414 -2.731746  -6.149767  -5.466163   \n",
       "2       -3.415351 -12.302205  -8.884184 -6.149767  -5.466163  -5.466163   \n",
       "3       -2.048142 -15.036622  -4.782559 -7.522316  -6.149767  -5.466163   \n",
       "4       -1.364538 -16.062027  -4.098955 -6.833372  -3.415351  -5.466163   \n",
       "...           ...        ...        ...       ...        ...        ...   \n",
       "307195 -10.934997  11.618601  -4.098955 -4.098955  17.771038 -15.720226   \n",
       "307196 -10.934997  13.669414  -3.415351 -4.098955  12.985809 -17.087435   \n",
       "307197 -11.623941  14.011215  -3.415351 -4.782559  12.302205 -15.036622   \n",
       "307198 -10.934997  12.644007  -3.415351 -1.364538  11.618601 -12.302205   \n",
       "307199  -9.573129   6.149767  -2.048142  0.680934  15.036622 -10.251392   \n",
       "\n",
       "         train_07  train_08   train_09    train_10   train_11   train_12  \\\n",
       "0      -19.821852 -3.415351 -12.649347  -10.934997 -20.510796 -11.623941   \n",
       "1      -16.403830 -2.731746  -4.440757  -10.934997 -10.934997 -12.985809   \n",
       "2      -12.302205 -2.731746   3.757153  -11.623941  -2.048142 -11.623941   \n",
       "3       -9.573129 -2.048142   1.022736  -11.623941   6.149767  -8.884184   \n",
       "4      -11.623941 -3.415351  -4.782559  -12.302205  12.302205  -6.833372   \n",
       "...           ...       ...        ...         ...        ...        ...   \n",
       "307195  -4.782559 -2.048142  14.011215  -99.119934   4.782559  -8.884184   \n",
       "307196  -4.098955 -2.731746  11.960402 -102.537960  10.934997  -8.200580   \n",
       "307197  -2.048142 -6.149767   4.782559 -108.006790  11.618601  -6.833372   \n",
       "307198   1.364538 -6.149767  -3.415351 -110.741200   4.782559  -2.048142   \n",
       "307199   0.002670 -5.466163  -6.149767 -108.690390  -6.149767   1.364538   \n",
       "\n",
       "          train_13   train_14   train_15  train_16  \n",
       "0       -58.103683   2.048142  38.962770  2.048142  \n",
       "1       -16.403830   1.364538  40.329975  2.048142  \n",
       "2        47.166020   2.048142  38.962770  3.415351  \n",
       "3        75.877396   4.098955  38.279163  2.731746  \n",
       "4        68.357750   6.149767  41.697186  1.364538  \n",
       "...            ...        ...        ...       ...  \n",
       "307195   -8.200580 -20.510796   0.680934 -2.048142  \n",
       "307196  -79.979020 -21.189060   1.364538 -0.680934  \n",
       "307197 -127.831314 -21.872663   5.466163 -1.364538  \n",
       "307198 -102.537960 -21.189060   8.200580 -1.364538  \n",
       "307199  -25.974289 -21.189060   9.567788 -4.782559  \n",
       "\n",
       "[307200 rows x 16 columns]"
      ]
     },
     "metadata": {},
     "output_type": "display_data"
    }
   ],
   "source": [
    "df= pd.read_csv(r'.\\train_data.csv')\n",
    "display(df)"
   ]
  },
  {
   "cell_type": "code",
   "execution_count": 4,
   "metadata": {},
   "outputs": [],
   "source": [
    "# Convert the entire DataFrame\n",
    "data_tot=df.to_numpy()"
   ]
  },
  {
   "cell_type": "markdown",
   "metadata": {},
   "source": [
    "## load info"
   ]
  },
  {
   "cell_type": "code",
   "execution_count": 5,
   "metadata": {},
   "outputs": [
    {
     "data": {
      "text/html": [
       "<div>\n",
       "<style scoped>\n",
       "    .dataframe tbody tr th:only-of-type {\n",
       "        vertical-align: middle;\n",
       "    }\n",
       "\n",
       "    .dataframe tbody tr th {\n",
       "        vertical-align: top;\n",
       "    }\n",
       "\n",
       "    .dataframe thead th {\n",
       "        text-align: right;\n",
       "    }\n",
       "</style>\n",
       "<table border=\"1\" class=\"dataframe\">\n",
       "  <thead>\n",
       "    <tr style=\"text-align: right;\">\n",
       "      <th></th>\n",
       "      <th>file_id</th>\n",
       "      <th>pt_id</th>\n",
       "      <th>loc</th>\n",
       "      <th>sz_present</th>\n",
       "      <th>sz_type</th>\n",
       "      <th>t_start</th>\n",
       "      <th>t_end</th>\n",
       "    </tr>\n",
       "  </thead>\n",
       "  <tbody>\n",
       "    <tr>\n",
       "      <th>0</th>\n",
       "      <td>train_01</td>\n",
       "      <td>C20</td>\n",
       "      <td>LE</td>\n",
       "      <td>1</td>\n",
       "      <td>IC - Focal Evolving to BL TC</td>\n",
       "      <td>77.0</td>\n",
       "      <td>155.0</td>\n",
       "    </tr>\n",
       "    <tr>\n",
       "      <th>1</th>\n",
       "      <td>train_02</td>\n",
       "      <td>A12</td>\n",
       "      <td>LF</td>\n",
       "      <td>0</td>\n",
       "      <td>NaN</td>\n",
       "      <td>NaN</td>\n",
       "      <td>NaN</td>\n",
       "    </tr>\n",
       "    <tr>\n",
       "      <th>2</th>\n",
       "      <td>train_03</td>\n",
       "      <td>C6</td>\n",
       "      <td>RE</td>\n",
       "      <td>1</td>\n",
       "      <td>IB - Focal Impaired Awareness</td>\n",
       "      <td>303.0</td>\n",
       "      <td>431.0</td>\n",
       "    </tr>\n",
       "    <tr>\n",
       "      <th>3</th>\n",
       "      <td>train_04</td>\n",
       "      <td>C14</td>\n",
       "      <td>RE</td>\n",
       "      <td>0</td>\n",
       "      <td>NaN</td>\n",
       "      <td>NaN</td>\n",
       "      <td>NaN</td>\n",
       "    </tr>\n",
       "    <tr>\n",
       "      <th>4</th>\n",
       "      <td>train_05</td>\n",
       "      <td>A3</td>\n",
       "      <td>LF</td>\n",
       "      <td>0</td>\n",
       "      <td>NaN</td>\n",
       "      <td>NaN</td>\n",
       "      <td>NaN</td>\n",
       "    </tr>\n",
       "    <tr>\n",
       "      <th>5</th>\n",
       "      <td>train_06</td>\n",
       "      <td>A6</td>\n",
       "      <td>RF</td>\n",
       "      <td>1</td>\n",
       "      <td>IB - Focal Impaired Awareness</td>\n",
       "      <td>354.0</td>\n",
       "      <td>463.0</td>\n",
       "    </tr>\n",
       "    <tr>\n",
       "      <th>6</th>\n",
       "      <td>train_07</td>\n",
       "      <td>A6</td>\n",
       "      <td>LF</td>\n",
       "      <td>1</td>\n",
       "      <td>IB - Focal Impaired Awareness</td>\n",
       "      <td>430.0</td>\n",
       "      <td>448.0</td>\n",
       "    </tr>\n",
       "    <tr>\n",
       "      <th>7</th>\n",
       "      <td>train_08</td>\n",
       "      <td>B8</td>\n",
       "      <td>RF</td>\n",
       "      <td>0</td>\n",
       "      <td>NaN</td>\n",
       "      <td>NaN</td>\n",
       "      <td>NaN</td>\n",
       "    </tr>\n",
       "    <tr>\n",
       "      <th>8</th>\n",
       "      <td>train_09</td>\n",
       "      <td>A12</td>\n",
       "      <td>LE</td>\n",
       "      <td>0</td>\n",
       "      <td>NaN</td>\n",
       "      <td>NaN</td>\n",
       "      <td>NaN</td>\n",
       "    </tr>\n",
       "    <tr>\n",
       "      <th>9</th>\n",
       "      <td>train_10</td>\n",
       "      <td>A25</td>\n",
       "      <td>RE</td>\n",
       "      <td>1</td>\n",
       "      <td>IA1 - Focal Aware w/Motor</td>\n",
       "      <td>200.0</td>\n",
       "      <td>299.0</td>\n",
       "    </tr>\n",
       "    <tr>\n",
       "      <th>10</th>\n",
       "      <td>train_11</td>\n",
       "      <td>B17</td>\n",
       "      <td>LF</td>\n",
       "      <td>0</td>\n",
       "      <td>NaN</td>\n",
       "      <td>NaN</td>\n",
       "      <td>NaN</td>\n",
       "    </tr>\n",
       "    <tr>\n",
       "      <th>11</th>\n",
       "      <td>train_12</td>\n",
       "      <td>A25</td>\n",
       "      <td>RE</td>\n",
       "      <td>1</td>\n",
       "      <td>IA1 - Focal Aware w/Motor</td>\n",
       "      <td>431.0</td>\n",
       "      <td>472.0</td>\n",
       "    </tr>\n",
       "    <tr>\n",
       "      <th>12</th>\n",
       "      <td>train_13</td>\n",
       "      <td>B8</td>\n",
       "      <td>RF</td>\n",
       "      <td>0</td>\n",
       "      <td>NaN</td>\n",
       "      <td>NaN</td>\n",
       "      <td>NaN</td>\n",
       "    </tr>\n",
       "    <tr>\n",
       "      <th>13</th>\n",
       "      <td>train_14</td>\n",
       "      <td>A25</td>\n",
       "      <td>LF</td>\n",
       "      <td>1</td>\n",
       "      <td>IC - Focal Evolving to BL TC</td>\n",
       "      <td>167.0</td>\n",
       "      <td>187.0</td>\n",
       "    </tr>\n",
       "    <tr>\n",
       "      <th>14</th>\n",
       "      <td>train_15</td>\n",
       "      <td>B32</td>\n",
       "      <td>LF</td>\n",
       "      <td>1</td>\n",
       "      <td>IIA1 - Generalized Absence - Typical</td>\n",
       "      <td>418.0</td>\n",
       "      <td>447.0</td>\n",
       "    </tr>\n",
       "    <tr>\n",
       "      <th>15</th>\n",
       "      <td>train_16</td>\n",
       "      <td>B3</td>\n",
       "      <td>LE</td>\n",
       "      <td>0</td>\n",
       "      <td>NaN</td>\n",
       "      <td>NaN</td>\n",
       "      <td>NaN</td>\n",
       "    </tr>\n",
       "  </tbody>\n",
       "</table>\n",
       "</div>"
      ],
      "text/plain": [
       "     file_id pt_id loc  sz_present                               sz_type  \\\n",
       "0   train_01   C20  LE           1          IC - Focal Evolving to BL TC   \n",
       "1   train_02   A12  LF           0                                   NaN   \n",
       "2   train_03    C6  RE           1         IB - Focal Impaired Awareness   \n",
       "3   train_04   C14  RE           0                                   NaN   \n",
       "4   train_05    A3  LF           0                                   NaN   \n",
       "5   train_06    A6  RF           1         IB - Focal Impaired Awareness   \n",
       "6   train_07    A6  LF           1         IB - Focal Impaired Awareness   \n",
       "7   train_08    B8  RF           0                                   NaN   \n",
       "8   train_09   A12  LE           0                                   NaN   \n",
       "9   train_10   A25  RE           1             IA1 - Focal Aware w/Motor   \n",
       "10  train_11   B17  LF           0                                   NaN   \n",
       "11  train_12   A25  RE           1             IA1 - Focal Aware w/Motor   \n",
       "12  train_13    B8  RF           0                                   NaN   \n",
       "13  train_14   A25  LF           1          IC - Focal Evolving to BL TC   \n",
       "14  train_15   B32  LF           1  IIA1 - Generalized Absence - Typical   \n",
       "15  train_16    B3  LE           0                                   NaN   \n",
       "\n",
       "    t_start  t_end  \n",
       "0      77.0  155.0  \n",
       "1       NaN    NaN  \n",
       "2     303.0  431.0  \n",
       "3       NaN    NaN  \n",
       "4       NaN    NaN  \n",
       "5     354.0  463.0  \n",
       "6     430.0  448.0  \n",
       "7       NaN    NaN  \n",
       "8       NaN    NaN  \n",
       "9     200.0  299.0  \n",
       "10      NaN    NaN  \n",
       "11    431.0  472.0  \n",
       "12      NaN    NaN  \n",
       "13    167.0  187.0  \n",
       "14    418.0  447.0  \n",
       "15      NaN    NaN  "
      ]
     },
     "metadata": {},
     "output_type": "display_data"
    }
   ],
   "source": [
    "data_info= pd.read_csv(r'.\\train_info.csv')\n",
    "df_info=pd.DataFrame(data_info)\n",
    "display(data_info)"
   ]
  },
  {
   "cell_type": "markdown",
   "metadata": {},
   "source": [
    "# Epoching and labeling data\n",
    "we consider length each epochs equal to 5 s is ....\n",
    "\n"
   ]
  },
  {
   "cell_type": "code",
   "execution_count": 6,
   "metadata": {},
   "outputs": [
    {
     "name": "stdout",
     "output_type": "stream",
     "text": [
      "120\n"
     ]
    }
   ],
   "source": [
    "import math\n",
    "sfreq=512\n",
    "#t epochs \n",
    "t_epoch=5# 5s\n",
    "epoch_len=math.floor(t_epoch*sfreq)\n",
    "len_data=60*10*sfreq\n",
    "num_subs=16\n",
    "num_epochs=math.floor(len_data/epoch_len)\n",
    "print(num_epochs)\n",
    "data_epoched=np.zeros([16,120,5*512])#[num_subs,num_epochs,epoch_len]\n",
    "data_label=np.zeros([16,120])#[sub_i,epo_i]\n",
    "\n",
    "for sub_i in range(16):\n",
    "    if df_info.loc[sub_i,'sz_present']==0:\n",
    "        for epo_i in range(num_epochs):\n",
    "            #print(sub_i)\n",
    "            #print(epo_i)\n",
    "            #print(epoch_len)\n",
    "            \n",
    "            data_epoched[sub_i,epo_i,:]=data_tot[epoch_len*epo_i:epoch_len*(1+epo_i),sub_i]\n",
    "            data_label[sub_i,epo_i]=0\n",
    "    else:\n",
    "        t_start=df_info.loc[sub_i,'t_start']\n",
    "        t_end=df_info.loc[sub_i,'t_end']\n",
    "        \n",
    "        s_siz_start=t_start*sfreq\n",
    "        s_siz_end=t_end*sfreq\n",
    "        \n",
    "        for epo_i in range(num_epochs):\n",
    "            s_epo_start=epo_i*epoch_len\n",
    "            s_epo_end=(epo_i+1)*epoch_len\n",
    "            \n",
    "            if (s_epo_start<s_siz_start and s_epo_end<s_siz_start) or (s_epo_start>s_siz_end and s_epo_end>s_siz_end):\n",
    "                s_epo_start=epo_i*epoch_len\n",
    "                s_epo_end=(epo_i+1)*epoch_len\n",
    "                data_epoched[sub_i,epo_i,:]=data_tot[s_epo_start:s_epo_end,sub_i]\n",
    "                data_label[sub_i,epo_i]=0\n",
    "            elif s_epo_start>s_siz_start and s_epo_end<s_siz_end:\n",
    "                s_epo_start=epo_i*epoch_len\n",
    "                s_epo_end=(epo_i+1)*epoch_len\n",
    "                data_epoched[sub_i,epo_i,:]=data_tot[s_epo_start:s_epo_end,sub_i]\n",
    "                data_label[sub_i,epo_i]=1\n",
    "                \n",
    "        # we want to have pure siz epochs\n",
    "        #so if for example siz took 36 s, 400-436 we want to consider one epoch 431-436\n",
    "        \n",
    "            #01,10\n",
    "            elif s_epo_start<s_siz_start and s_siz_start<s_epo_end:\n",
    "                s_epo_start=s_siz_start\n",
    "                s_epo_end=s_siz_start+epoch_len\n",
    "                \n",
    "                s_epo_start=math.floor(s_epo_start)\n",
    "                s_epo_end=math.floor(s_epo_end)\n",
    "                \n",
    "                data_epoched[sub_i,epo_i,:]=data_tot[s_epo_start:s_epo_end,sub_i]\n",
    "                data_label[sub_i,epo_i]=1\n",
    "            elif s_epo_start<s_siz_end and s_siz_end<s_epo_end:\n",
    "                s_epo_start=s_siz_end-epoch_len\n",
    "                s_epo_end=s_siz_end\n",
    "                \n",
    "                s_epo_start=math.floor(s_epo_start)\n",
    "                s_epo_end=math.floor(s_epo_end)\n",
    "                \n",
    "                data_epoched[sub_i,epo_i,:]=data_tot[s_epo_start:s_epo_end,sub_i]\n",
    "                data_label[sub_i,epo_i]=1\n",
    "            \n",
    "                \n",
    "            \n",
    "                                \n",
    "\n",
    "                \n",
    "        \n",
    "        \n",
    "        \n",
    "        \n",
    "       \n",
    "      "
   ]
  },
  {
   "cell_type": "code",
   "execution_count": 7,
   "metadata": {},
   "outputs": [
    {
     "data": {
      "text/plain": [
       "[<matplotlib.lines.Line2D at 0x257c4f6eeb8>]"
      ]
     },
     "execution_count": 7,
     "metadata": {},
     "output_type": "execute_result"
    },
    {
     "data": {
      "image/png": "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\n",
      "text/plain": [
       "<Figure size 432x288 with 1 Axes>"
      ]
     },
     "metadata": {
      "needs_background": "light"
     },
     "output_type": "display_data"
    }
   ],
   "source": [
    "plt.plot(data_label[9,:])\n"
   ]
  },
  {
   "cell_type": "code",
   "execution_count": 8,
   "metadata": {},
   "outputs": [
    {
     "data": {
      "text/plain": [
       "[<matplotlib.lines.Line2D at 0x257c5021358>]"
      ]
     },
     "execution_count": 8,
     "metadata": {},
     "output_type": "execute_result"
    },
    {
     "data": {
      "image/png": "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\n",
      "text/plain": [
       "<Figure size 432x288 with 1 Axes>"
      ]
     },
     "metadata": {
      "needs_background": "light"
     },
     "output_type": "display_data"
    }
   ],
   "source": [
    "sub_i=9\n",
    "epo_i=50\n",
    "plt.plot(data_epoched[sub_i,epo_i,:])"
   ]
  },
  {
   "cell_type": "markdown",
   "metadata": {},
   "source": [
    "# What frequency is a seizure?\n",
    "\n",
    "High-frequency activities, including gamma oscillations at 60–150 Hz and fast ripples at 250–500 Hz, have been associated with the initiation of epileptiform potentials and seizures in human temporal lobe and neocortical epilepsies[1]\n",
    "\n",
    "\n",
    "[1]. Alvarado-Rojas C, Valderrama M, Fouad-Ahmed A, Feldwisch-Drentrup H, Ihle M, Teixeira CA, Sales F, Schulze-Bonhage A, Adam C, Dourado A, Charpier S. Slow modulations of high-frequency activity (40–140 Hz) discriminate preictal changes in human focal epilepsy. Scientific reports. 2014 Apr 1;4(1):1-9."
   ]
  },
  {
   "cell_type": "markdown",
   "metadata": {},
   "source": [
    "# Preprocessing data"
   ]
  },
  {
   "cell_type": "markdown",
   "metadata": {},
   "source": [
    "Lets have a common pre-processing stage for EEG data, filtering.\n",
    "\n",
    "- **Band-pass**: 0.3-64 Hz,\n",
    "- **Notch**: 50 Hz.\n",
    "\n",
    "\n"
   ]
  },
  {
   "cell_type": "code",
   "execution_count": 9,
   "metadata": {
    "scrolled": true
   },
   "outputs": [],
   "source": [
    "import numpy as np\n",
    "from mne.viz import plot_filter, plot_ideal_filter\n",
    "import matplotlib.pyplot as plt\n",
    "\n",
    "sfreq = 512 #samples per second.\n",
    "f_p = 64.\n",
    "nyq = sfreq / 2.  # the Nyquist frequency is half our sample rate\n"
   ]
  },
  {
   "cell_type": "code",
   "execution_count": 10,
   "metadata": {
    "scrolled": true
   },
   "outputs": [],
   "source": [
    "from scipy import signal\n"
   ]
  },
  {
   "cell_type": "markdown",
   "metadata": {},
   "source": [
    "Lets have a look at how a filter alike to the one above changes an EEG segment with some noise in."
   ]
  },
  {
   "cell_type": "code",
   "execution_count": 11,
   "metadata": {
    "scrolled": true
   },
   "outputs": [
    {
     "data": {
      "text/plain": [
       "[<matplotlib.lines.Line2D at 0x257c5eb20b8>]"
      ]
     },
     "execution_count": 11,
     "metadata": {},
     "output_type": "execute_result"
    },
    {
     "data": {
      "image/png": "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\n",
      "text/plain": [
       "<Figure size 432x288 with 1 Axes>"
      ]
     },
     "metadata": {
      "needs_background": "light"
     },
     "output_type": "display_data"
    }
   ],
   "source": [
    "sfreq=512\n",
    "endtime=10*60\n",
    "N=10*60*sfreq\n",
    "\n",
    "time= np.linspace(0, endtime, N)\n",
    "plt.plot(time,data_tot[:,0])"
   ]
  },
  {
   "cell_type": "code",
   "execution_count": 12,
   "metadata": {},
   "outputs": [],
   "source": [
    "from scipy.signal import sosfiltfilt, butter\n",
    "\n",
    "def notch(data, line, fs, Q):\n",
    "    #   Inputs  :   data    - 2D numpy array (d0 = samples, d1 = channels) of unfiltered EEG data\n",
    "    #               cut     - frequency to be notched (defaults to config)\n",
    "    #               fs      - sampling rate of hardware (defaults to config)\n",
    "    #               Q       - Quality Factor (defaults to 30) that characterizes notch filter -3 dB bandwidth bw relative to its center frequency, Q = w0/bw.   \n",
    "    #   Output  :   y     - 2D numpy array (d0 = samples, d1 = channels) of notch-filtered EEG data\n",
    "    #   NOTES   :   \n",
    "    #   Todo    : report testing filter characteristics\n",
    "    \n",
    "    cut = line\n",
    "    w0 = cut/(fs/2)\n",
    "    b, a = signal.iirnotch(w0, Q)\n",
    "    y = signal.filtfilt(b, a, data, axis=0)\n",
    "    return y\n",
    "\n",
    "\n",
    "def butter_bandpass(data, low,high,fs, order):\n",
    "    #   Inputs  :   data    - 2D numpy array (d0 = samples, d1 = channels) of unfiltered EEG data\n",
    "    #               low     - lower limit in Hz for the bandpass filter (defaults to config)\n",
    "    #               high    - upper limit in Hz for the bandpass filter (defaults to config)\n",
    "    #               fs      - sampling rate of hardware (defaults to config)\n",
    "    #               order   - the order of the filter (defaults to 4)  \n",
    "    #   Output  :   y     - 2D numpy array (d0 = samples, d1 = channels) of notch-filtered EEG data\n",
    "    #   NOTES   :   \n",
    "    #   Todo    : report testing filter characteristics\n",
    "\n",
    "    # data must be a column vector. Columns are EEG channels, rows are samples\n",
    "    low_n = (low*250)/(fs/2)\n",
    "    high_n = (high*250)/(fs/2)\n",
    "    sos = butter(order, [low_n, high_n], btype=\"bandpass\", analog=False, output=\"sos\", fs=fs)\n",
    "    filtered_data = sosfiltfilt(sos,data, axis=0)\n",
    "    return filtered_data\n"
   ]
  },
  {
   "cell_type": "code",
   "execution_count": 13,
   "metadata": {},
   "outputs": [],
   "source": [
    "order=6\n",
    "fs=512\n",
    "low=1\n",
    "high=150\n",
    "Q=30\n",
    "line=60\n",
    "fs=512\n",
    "\n",
    "filtered_data=np.zeros([num_subs,num_epochs,epoch_len])\n",
    "for sub_i in range (num_subs):\n",
    "    for epo_i in range (num_epochs):\n",
    "        data2=data_epoched[sub_i,epo_i,:]\n",
    "        data_notch= notch(data2, line, fs, Q)\n",
    "        data_butter= butter_bandpass(data_notch, low,high,fs, order)\n",
    "        filtered_data[sub_i,epo_i,:]=data_butter\n",
    "\n"
   ]
  },
  {
   "cell_type": "code",
   "execution_count": 14,
   "metadata": {
    "scrolled": true
   },
   "outputs": [
    {
     "data": {
      "text/plain": [
       "[<matplotlib.lines.Line2D at 0x257c5edfe48>]"
      ]
     },
     "execution_count": 14,
     "metadata": {},
     "output_type": "execute_result"
    },
    {
     "data": {
      "image/png": "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\n",
      "text/plain": [
       "<Figure size 432x288 with 1 Axes>"
      ]
     },
     "metadata": {
      "needs_background": "light"
     },
     "output_type": "display_data"
    }
   ],
   "source": [
    "sub_i=0\n",
    "epo_i=21\n",
    "plt.plot(data_epoched[sub_i,epo_i,:])\n",
    "plt.plot(filtered_data[sub_i,epo_i,:])\n"
   ]
  },
  {
   "cell_type": "code",
   "execution_count": 15,
   "metadata": {},
   "outputs": [
    {
     "name": "stdout",
     "output_type": "stream",
     "text": [
      "107\n",
      "1811\n"
     ]
    }
   ],
   "source": [
    "num_non_siz=-1\n",
    "num_siz=-1\n",
    "for sub_i in range (num_subs):\n",
    "    for epo_i in range (num_epochs):\n",
    "        if data_label[sub_i,epo_i]==0:\n",
    "            num_non_siz=num_non_siz+1 \n",
    "        elif data_label[sub_i,epo_i]==1:\n",
    "            num_siz=num_siz+1\n",
    "print(num_siz)\n",
    "print(num_non_siz)"
   ]
  },
  {
   "cell_type": "markdown",
   "metadata": {},
   "source": [
    "# Removing (high-frequency) noise using the DWT\n"
   ]
  },
  {
   "cell_type": "markdown",
   "metadata": {},
   "source": [
    "data_f=filtered_data\n",
    "data_f=data_f.reshape(data_f.shape[1])\n",
    "signal = data_f\n",
    " \n",
    "def lowpassfilter(signal, thresh = 1, wavelet=\"db4\"):\n",
    "    thresh = thresh*np.nanmax(signal)\n",
    "    coeff = pywt.wavedec(signal, wavelet, mode=\"per\" )\n",
    "    coeff[1:] = (pywt.threshold(i, value=thresh, mode=\"soft\" ) for i in coeff[1:])\n",
    "    reconstructed_signal = pywt.waverec(coeff, wavelet, mode=\"per\" )\n",
    "    return reconstructed_signal\n",
    " \n",
    "fig, ax = plt.subplots(figsize=(12,8))\n",
    "ax.plot(signal[1000:2000], color=\"b\", alpha=0.5, label='original signal')\n",
    "rec = lowpassfilter(signal, 0.01)\n",
    "ax.plot(rec[1000:2000], 'k', label='DWT smoothing}', linewidth=2)\n",
    "ax.legend()\n",
    "ax.set_title('Removing High Frequency Noise with DWT', fontsize=18)\n",
    "ax.set_ylabel('Signal Amplitude', fontsize=16)\n",
    "ax.set_xlabel('Sample No', fontsize=16)\n",
    "plt.show()"
   ]
  },
  {
   "cell_type": "markdown",
   "metadata": {},
   "source": [
    "dwt"
   ]
  },
  {
   "cell_type": "code",
   "execution_count": 16,
   "metadata": {},
   "outputs": [
    {
     "data": {
      "image/png": "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\n",
      "text/plain": [
       "<Figure size 504x504 with 14 Axes>"
      ]
     },
     "metadata": {
      "needs_background": "light"
     },
     "output_type": "display_data"
    }
   ],
   "source": [
    "import pywt\n",
    "\n",
    "    \n",
    "data = filtered_data[sub_i,epo_i,:]\n",
    "waveletname = 'db4'\n",
    " \n",
    "fig, axarr = plt.subplots(nrows=7, ncols=2, figsize=(7,7))\n",
    "for ii in range(7):\n",
    "    (data, coeff_d) = pywt.dwt(data, waveletname)\n",
    "    axarr[ii, 0].plot(data, 'r')\n",
    "    axarr[ii, 1].plot(coeff_d, 'g')\n",
    "    axarr[ii, 0].set_ylabel(\"Level {}\".format(ii + 1), fontsize=14, rotation=90)\n",
    "    axarr[ii, 0].set_yticklabels([])\n",
    "    if ii == 0:\n",
    "        axarr[ii, 0].set_title(\"Approximation coefficients\", fontsize=14)\n",
    "        axarr[ii, 1].set_title(\"Detail coefficients\", fontsize=14)\n",
    "    axarr[ii, 1].set_yticklabels([])\n",
    "plt.tight_layout()\n",
    "plt.show()\n"
   ]
  },
  {
   "cell_type": "markdown",
   "metadata": {
    "colab_type": "text",
    "id": "CPP-WnUhDOac"
   },
   "source": [
    "# Feature Engineering\n",
    "\n",
    "Key to the performance of any machine learning algorithm is the successful extraction of salient features, which can come from both domain knowledge and computational feature extraction techniques. Therefore the start of any machine learning project is to identify relevant features from knowledge of the data, in this case time-series, or the previous literature on that domain. \n",
    "\n",
    "For my own research I extracted a number of features specific to the type of epilepsy. This code will go over a few of the features that were the easiest to extract.\n",
    "\n"
   ]
  },
  {
   "cell_type": "markdown",
   "metadata": {},
   "source": [
    "# Generating features per sub-band\n",
    "\n",
    "So what kind of features can be generated from the set of values for each of the sub-bands? Of course this will highly depend on the type of signal and the application. But in general, below are some features which are most frequently used for signals.\n",
    "\n",
    "* Auto-regressive model coefficient values\n",
    "* (Shannon) Entropy values; entropy values can be taken as a measure of complexity of the signal.\n",
    "Statistical features like:\n",
    "* variance\n",
    "* standard deviation\n",
    "* Mean\n",
    "* Median\n",
    "* 25th percentile value\n",
    "* 75th percentile value\n",
    "* Root Mean Square value; square of the average of the squared amplitude values\n",
    "* The mean of the derivative\n",
    "* Zero crossing rate, i.e. the number of times a signal crosses y = 0\n",
    "* Mean crossing rate, i.e. the number of times a signal crosses y = mean(y)"
   ]
  },
  {
   "cell_type": "code",
   "execution_count": 17,
   "metadata": {},
   "outputs": [],
   "source": [
    "def calcut_features(list_values):\n",
    "    counter_values = Counter(list_values).most_common()\n",
    "    probabilities = [elem[1]/len(list_values) for elem in counter_values]\n",
    "    entropy=scipy.stats.entropy(probabilities)\n",
    "    \n",
    "    median = np.nanpercentile(list_values, 50)\n",
    "    mean = np.nanmean(list_values)\n",
    "    std = np.nanstd(list_values)\n",
    "    var = np.nanvar(list_values)\n",
    "    rms = np.nanmean(np.sqrt(list_values**2))\n",
    "    \n",
    "    \n",
    "    return [entropy, median, mean, std, var, rms]\n",
    "\n"
   ]
  },
  {
   "cell_type": "code",
   "execution_count": 18,
   "metadata": {},
   "outputs": [],
   "source": [
    "data = filtered_data[sub_i,epo_i,:]\n",
    "waveletname = 'db4'\n",
    " \n",
    "(data, coeff_d) = pywt.dwt(data, waveletname)\n",
    "\n",
    "\n"
   ]
  },
  {
   "cell_type": "code",
   "execution_count": 19,
   "metadata": {},
   "outputs": [],
   "source": [
    "from pywt import wavedec\n",
    "from collections import Counter\n",
    "import scipy\n",
    "data = filtered_data[sub_i,epo_i,:]\n",
    "level=5\n",
    "coeffs = wavedec(data, wavelet='db4', level=level)\n",
    "cA5, cD5, cD4,cD3, cD2, cD1 = coeffs\n",
    "features=calcut_features(cA5)\n",
    "\n"
   ]
  },
  {
   "cell_type": "code",
   "execution_count": 20,
   "metadata": {
    "scrolled": true
   },
   "outputs": [
    {
     "data": {
      "text/plain": [
       "[4.4543472962535064,\n",
       " -0.06289527206942347,\n",
       " 0.6482551142455427,\n",
       " 13.861770204382646,\n",
       " 192.1486731991105,\n",
       " 11.045171680268675]"
      ]
     },
     "execution_count": 20,
     "metadata": {},
     "output_type": "execute_result"
    }
   ],
   "source": [
    "features"
   ]
  },
  {
   "cell_type": "code",
   "execution_count": 21,
   "metadata": {},
   "outputs": [
    {
     "data": {
      "text/plain": [
       "(6,)"
      ]
     },
     "execution_count": 21,
     "metadata": {},
     "output_type": "execute_result"
    }
   ],
   "source": [
    "np.shape(features)"
   ]
  },
  {
   "cell_type": "code",
   "execution_count": 22,
   "metadata": {},
   "outputs": [
    {
     "data": {
      "text/plain": [
       "[1, 2, 6, 7]"
      ]
     },
     "execution_count": 22,
     "metadata": {},
     "output_type": "execute_result"
    }
   ],
   "source": [
    "a=[1,2]\n",
    "b=[6,7]\n",
    "a+b"
   ]
  },
  {
   "cell_type": "code",
   "execution_count": 23,
   "metadata": {},
   "outputs": [],
   "source": [
    "from pywt import wavedec\n",
    "num_features=6\n",
    "features_gamma_h=np.zeros([num_subs, num_epochs,num_features])\n",
    "features_gamma_l=np.zeros([num_subs, num_epochs,num_features])\n",
    "features_beta=np.zeros([num_subs, num_epochs,num_features])\n",
    "features_alpha=np.zeros([num_subs, num_epochs,num_features])\n",
    "features_theta=np.zeros([num_subs, num_epochs,num_features])\n",
    "features_delta=np.zeros([num_subs, num_epochs,num_features])\n",
    "\n",
    "wavelet_features=np.zeros([num_subs, num_epochs,6*num_features])\n",
    "\n",
    "for sub_i in range (num_subs):\n",
    "    for epo_i in range (num_epochs):\n",
    "        data = filtered_data[sub_i,epo_i,:]\n",
    "        level=7\n",
    "        coeffs = wavedec(data, wavelet='db4', level=level)\n",
    "        cA7,cD7, cD6, cD5, cD4,cD3, cD2, cD1 = coeffs\n",
    "        #gamma oscillations at 60–150 Hz \n",
    "        #*D1:256-512\n",
    "        #*D2:128-256\n",
    "        #*D3: 64-128 >>gamma_H\n",
    "        #*D4:32-64>>gamma_l\n",
    "        #*D5:16-32>>beta\n",
    "        #*D6:8-16>>alpha\n",
    "        #*D7:4-8>>theta\n",
    "        #*A7:0-4>>delta \n",
    "        \n",
    "        features_gamma_h[sub_i,epo_i,:]=calcut_features(cD3)\n",
    "        features_gamma_l[sub_i,epo_i,:]=calcut_features(cD4)\n",
    "        features_beta[sub_i,epo_i,:]=calcut_features(cD5)\n",
    "        features_alpha[sub_i,epo_i,:]=calcut_features(cD6)\n",
    "        features_theta[sub_i,epo_i,:]=calcut_features(cD7)\n",
    "        features_delta[sub_i,epo_i,:]=calcut_features(cA7)\n",
    "        \n",
    "        wavelet_features[sub_i,epo_i,:]=np.concatenate((features_gamma_h[sub_i,epo_i,:],\n",
    "                                                        features_gamma_l[sub_i,epo_i,:],\n",
    "                                                        features_beta[sub_i,epo_i,:],\n",
    "                                                        features_alpha[sub_i,epo_i,:],\n",
    "                                                        features_theta[sub_i,epo_i,:],\n",
    "                                                        features_delta[sub_i,epo_i,:]))\n",
    "        \n",
    "        \n",
    "\n"
   ]
  },
  {
   "cell_type": "markdown",
   "metadata": {},
   "source": [
    "## Fourier features\n",
    "\n",
    "## Fourier Transform\n",
    "\n",
    "As EEG contains events that occur at different overlapping frequencies, subspectral components of an EEG signal are often separated and processed discretely, allowing for the decomposition of the signal into frequency bands. To describe a signal in terms of its the frequency components, the data can be transformed by projecting it onto sinusoidal basis functions; with this transformation from the time domain to the frequency domain known as a Fourier transform<sup>1</sup>. Fourier transforms measure oscillation amplitude independent of phase, meaning latency variation can be avoided<sup>2</sup>. Short-time Fourier transformation’s (STFT), which windows the EEG signal and applies a fast Fourier transformation to each data frame<sup>3</sup>, are often applied to EEG data. \n",
    "\n",
    "Although broadly used, it is worth noting that Fourier transforms can loose temporal information from data due to stretching the signal to fit onto sine waves<sup>4</sup>, and the same window size is used to calculate power in different frequencies despite low and high frequencies yielding greater precision with different window sizes<sup>2</sup>. Indeed, the width of the ‘window’ used on the data is important as it can result in poor frequency resolution if too narrow, or poor time localisation that violates the stationarity assumption if too wide<sup>1,5</sup>.\n",
    "\n",
    "---\n",
    "\n",
    "1. Varsavsky, A., Mareels, I., & Cook, M. (2011). EEG Generation and Measurement. In Epileptic seizures eeg meas. model. detect. predict. (Chap. 2, p. 337). doi:doi:10.1201/b10459-3\n",
    "2. Luck2014a\n",
    "3. Kiymik, M. K., Güler, I., Dizibüyük, A., & Akin,M. (2005). Comparison of STFT and wavelet transform methods in determining epileptic seizure activity in EEG signals for real-time application. Comput. Biol. Med. 35(7), 603–616.\n",
    "4. Luck2014b\n",
    "5. Rosso, O. A., Martin, M. T., Figliola, A., Keller, K., & Plastino,A. (2006). EEG analysis using wavelet-based information tools. J. Neurosci. Methods, 153(2), 163–182."
   ]
  },
  {
   "cell_type": "code",
   "execution_count": 24,
   "metadata": {},
   "outputs": [],
   "source": [
    "def get_fft_values(y_values, T, N, f_s):\n",
    "    f_values = np.linspace(0.0, 1.0/(2.0*T), N//2)\n",
    "    fft_values_ = fft(y_values)\n",
    "    fft_values = 2.0/N * np.abs(fft_values_[0:N//2])\n",
    "    return f_values, fft_values\n",
    " \n",
    "def plot_fft_plus_power(time, signal):\n",
    "    dt = time[1] - time[0]\n",
    "    N = len(signal)\n",
    "    fs = 1/dt\n",
    "    \n",
    "    variance = np.std(signal)**2\n",
    "    f_values, fft_values = get_fft_values(signal, dt, N, fs)\n",
    "    fft_power = variance * abs(fft_values) ** 2     # FFT power spectrum\n",
    "    return fft_power\n",
    " "
   ]
  },
  {
   "cell_type": "markdown",
   "metadata": {
    "colab_type": "text",
    "id": "Oe3h7w3tVbhK"
   },
   "source": [
    "### Welch\n",
    "\n",
    "Now lets look at how we use the Welch method to gain a spectral estimation of a signal.\n",
    "\n",
    "The Welch method is related to a Short-time Fourier transform in that it is a spectral density estimation method that calculates a periodogram for windowed sections of data. Overlapping segments are windowed, as this helps mitagate the loss of information at the edges of the time window, with a discrete Fourier transform applied to calculate the periodogram. Data is squared and each periodogram averaged to reduce the variance of each power measure.\n",
    "\n",
    "\n"
   ]
  },
  {
   "cell_type": "code",
   "execution_count": 25,
   "metadata": {},
   "outputs": [],
   "source": [
    "from scipy.signal import welch\n",
    "\n",
    "def bandpower(data, sf, band, output = False):\n",
    "    band = np.asarray(band)\n",
    "    low, high = band\n",
    "\n",
    "    # Compute the periodogram (Welch)\n",
    "    freqs, psd = welch(data, \n",
    "                       sf, \n",
    "                       nperseg=2560,#(2/ low)*sf,\n",
    "                       scaling='density', \n",
    "                       axis=0)\n",
    "    \n",
    "    # Find closest indices of band in frequency vector\n",
    "    idx_min = np.argmax(np.round(freqs) > low) - 1\n",
    "    idx_max = np.argmax(np.round(freqs) > high)\n",
    "    \n",
    "    # select frequencies of interest\n",
    "    psd2 = psd[idx_min:idx_max]\n",
    "    \n",
    "    # get the mean of each channel over all frequencies in the band\n",
    "    psd2 = psd2.mean()\n",
    "    \n",
    "    return psd2\n",
    "data=filtered_data[sub_i,epo_i,:]\n",
    "baseline_power = bandpower(data, sfreq, [8,12], output=True)"
   ]
  },
  {
   "cell_type": "code",
   "execution_count": 26,
   "metadata": {},
   "outputs": [
    {
     "data": {
      "text/plain": [
       "0.22447780153098132"
      ]
     },
     "execution_count": 26,
     "metadata": {},
     "output_type": "execute_result"
    }
   ],
   "source": [
    "baseline_power"
   ]
  },
  {
   "cell_type": "markdown",
   "metadata": {
    "colab_type": "text",
    "id": "HwtXUlfN2f5m"
   },
   "source": [
    "Now we want to get mean values for multipule frequency bands, so we will make a function that uses the previous function in order to get these values."
   ]
  },
  {
   "cell_type": "code",
   "execution_count": 27,
   "metadata": {},
   "outputs": [],
   "source": [
    "def power_measures(data):\n",
    "    #gamma oscillations at 60–150 Hz \n",
    "    bandpasses = [[[60,150],'power_gamma_h'],\n",
    "                  [[30,60],'power_gamma_l'],\n",
    "                  [[12,30],'power_beta'],\n",
    "                  [[8,12],'power_alpha'],\n",
    "                  [[4,8],'power_theta'],\n",
    "        [[0.3,4],'power_delta']]     \n",
    "                  \n",
    "                 \n",
    "    \n",
    "    welch_data = []\n",
    "    for bandpass, freq_name in bandpasses:\n",
    "        bandpass_data = bandpower(data, sfreq, bandpass)\n",
    "        welch_data = welch_data+[bandpass_data]\n",
    "        \n",
    "      \n",
    "    return welch_data\n",
    "\n",
    "baseline_power = power_measures(data)\n"
   ]
  },
  {
   "cell_type": "code",
   "execution_count": 28,
   "metadata": {},
   "outputs": [],
   "source": [
    "num_band_power=6#d,t,alpha,b,gl,gh\n",
    "power_features=np.zeros([num_subs, num_epochs,num_band_power])\n",
    "\n",
    "for sub_i in range (num_subs):\n",
    "    for epo_i in range (num_epochs):\n",
    "        data = filtered_data[sub_i,epo_i,:]\n",
    "                \n",
    "        power_features[sub_i,epo_i,:]=power_measures(data)\n",
    "        \n"
   ]
  },
  {
   "cell_type": "markdown",
   "metadata": {},
   "source": [
    "# Total features\n",
    "wavelet and power"
   ]
  },
  {
   "cell_type": "code",
   "execution_count": 29,
   "metadata": {},
   "outputs": [],
   "source": [
    "all_features=np.zeros([num_subs, num_epochs,num_band_power*(1+num_features)])\n",
    "nn=-1\n",
    "non_siz_features_2d=np.zeros([num_non_siz+1,num_band_power*(1+num_features)])\n",
    "siz_features_2d=np.zeros([num_siz+1,num_band_power*(1+num_features)])\n",
    "\n",
    "all_features_2d=np.zeros([num_subs* num_epochs,num_band_power*(1+num_features)])\n",
    "epoch_label_2d=np.zeros([num_subs* num_epochs])\n",
    "i_non_siz=-1\n",
    "i_siz=-1\n",
    "for sub_i in range (num_subs):\n",
    "    for epo_i in range (num_epochs):\n",
    "        nn=nn+1        \n",
    "        all_features[sub_i,epo_i,:]=np.concatenate((power_features[sub_i,epo_i,:],wavelet_features[sub_i,epo_i,:]))\n",
    "        \n",
    "        epoch_label_2d[nn]=data_label[sub_i,epo_i]\n",
    "        if epoch_label_2d[nn]==0:\n",
    "            all_features_2d[nn,:]=np.concatenate((power_features[sub_i,epo_i,:],wavelet_features[sub_i,epo_i,:]))\n",
    "        elif  epoch_label_2d[nn]==0:\n",
    "            all_features_2d[nn,:]=np.concatenate((power_features[sub_i,epo_i,:],wavelet_features[sub_i,epo_i,:]))\n",
    "       \n",
    "        \n",
    "\n",
    "        \n",
    "        "
   ]
  },
  {
   "cell_type": "code",
   "execution_count": 30,
   "metadata": {},
   "outputs": [
    {
     "name": "stdout",
     "output_type": "stream",
     "text": [
      "['power_delta', 'power_theta', 'power_alpha', 'power_beta', 'power_gamma_l', 'power_gamma_h', 'entropy_delta', 'entropy_theta', 'entropy_alpha', 'entropy_beta', 'entropy_gamma_l', 'entropy_gamma_h', 'median_delta', 'median_theta', 'median_alpha', 'median_beta', 'median_gamma_l', 'median_gamma_h', 'mean_delta', 'mean_theta', 'mean_alpha', 'mean_beta', 'mean_gamma_l', 'mean_gamma_h', 'std_delta', 'std_theta', 'std_alpha', 'std_beta', 'std_gamma_l', 'std_gamma_h', 'var_delta', 'var_theta', 'var_alpha', 'var_beta', 'var_gamma_l', 'var_gamma_h', 'rms_delta', 'rms_theta', 'rms_alpha', 'rms_beta', 'rms_gamma_l', 'rms_gamma_h']\n"
     ]
    }
   ],
   "source": [
    "features_name=['power','entropy', 'median', 'mean', 'std', 'var', 'rms']\n",
    "bands_name=['delta','theta','alpha','beta','gamma_l','gamma_h']\n",
    "band_features_names=[]\n",
    "for fname in range (7):\n",
    "    for bname in range(6):\n",
    "        band_features=features_name[fname]+'_'+bands_name[bname]\n",
    "        band_features_names=band_features_names+[band_features]\n",
    "        \n",
    "print( band_features_names)"
   ]
  },
  {
   "cell_type": "code",
   "execution_count": 31,
   "metadata": {
    "scrolled": true
   },
   "outputs": [
    {
     "data": {
      "text/html": [
       "<div>\n",
       "<style scoped>\n",
       "    .dataframe tbody tr th:only-of-type {\n",
       "        vertical-align: middle;\n",
       "    }\n",
       "\n",
       "    .dataframe tbody tr th {\n",
       "        vertical-align: top;\n",
       "    }\n",
       "\n",
       "    .dataframe thead th {\n",
       "        text-align: right;\n",
       "    }\n",
       "</style>\n",
       "<table border=\"1\" class=\"dataframe\">\n",
       "  <thead>\n",
       "    <tr style=\"text-align: right;\">\n",
       "      <th></th>\n",
       "      <th>power_delta</th>\n",
       "      <th>power_theta</th>\n",
       "      <th>power_alpha</th>\n",
       "      <th>power_beta</th>\n",
       "      <th>power_gamma_l</th>\n",
       "      <th>power_gamma_h</th>\n",
       "      <th>entropy_delta</th>\n",
       "      <th>entropy_theta</th>\n",
       "      <th>entropy_alpha</th>\n",
       "      <th>entropy_beta</th>\n",
       "      <th>...</th>\n",
       "      <th>var_alpha</th>\n",
       "      <th>var_beta</th>\n",
       "      <th>var_gamma_l</th>\n",
       "      <th>var_gamma_h</th>\n",
       "      <th>rms_delta</th>\n",
       "      <th>rms_theta</th>\n",
       "      <th>rms_alpha</th>\n",
       "      <th>rms_beta</th>\n",
       "      <th>rms_gamma_l</th>\n",
       "      <th>rms_gamma_h</th>\n",
       "    </tr>\n",
       "  </thead>\n",
       "  <tbody>\n",
       "    <tr>\n",
       "      <th>0</th>\n",
       "      <td>0.009039</td>\n",
       "      <td>0.049249</td>\n",
       "      <td>0.170637</td>\n",
       "      <td>0.207070</td>\n",
       "      <td>0.592591</td>\n",
       "      <td>0.868308</td>\n",
       "      <td>5.786897</td>\n",
       "      <td>0.183102</td>\n",
       "      <td>0.205449</td>\n",
       "      <td>3.366237</td>\n",
       "      <td>...</td>\n",
       "      <td>3.669407</td>\n",
       "      <td>16.012046</td>\n",
       "      <td>256.385609</td>\n",
       "      <td>12.279704</td>\n",
       "      <td>3.258097</td>\n",
       "      <td>2.593729</td>\n",
       "      <td>-0.111713</td>\n",
       "      <td>14.721827</td>\n",
       "      <td>216.732197</td>\n",
       "      <td>11.871670</td>\n",
       "    </tr>\n",
       "    <tr>\n",
       "      <th>1</th>\n",
       "      <td>0.009777</td>\n",
       "      <td>0.047472</td>\n",
       "      <td>0.143067</td>\n",
       "      <td>0.284379</td>\n",
       "      <td>0.379257</td>\n",
       "      <td>1.599922</td>\n",
       "      <td>5.786897</td>\n",
       "      <td>-0.077492</td>\n",
       "      <td>-0.019793</td>\n",
       "      <td>3.407507</td>\n",
       "      <td>...</td>\n",
       "      <td>0.482313</td>\n",
       "      <td>13.588423</td>\n",
       "      <td>184.645229</td>\n",
       "      <td>10.445988</td>\n",
       "      <td>3.258097</td>\n",
       "      <td>7.744015</td>\n",
       "      <td>2.039077</td>\n",
       "      <td>19.326751</td>\n",
       "      <td>373.523302</td>\n",
       "      <td>15.529142</td>\n",
       "    </tr>\n",
       "    <tr>\n",
       "      <th>2</th>\n",
       "      <td>0.010642</td>\n",
       "      <td>0.050325</td>\n",
       "      <td>0.169670</td>\n",
       "      <td>0.381042</td>\n",
       "      <td>0.314377</td>\n",
       "      <td>0.724036</td>\n",
       "      <td>5.786897</td>\n",
       "      <td>-0.116102</td>\n",
       "      <td>0.047344</td>\n",
       "      <td>3.400208</td>\n",
       "      <td>...</td>\n",
       "      <td>-4.037805</td>\n",
       "      <td>15.978488</td>\n",
       "      <td>255.312091</td>\n",
       "      <td>13.392073</td>\n",
       "      <td>3.258097</td>\n",
       "      <td>2.934791</td>\n",
       "      <td>2.321771</td>\n",
       "      <td>12.930307</td>\n",
       "      <td>167.192835</td>\n",
       "      <td>10.035258</td>\n",
       "    </tr>\n",
       "    <tr>\n",
       "      <th>3</th>\n",
       "      <td>0.008656</td>\n",
       "      <td>0.054356</td>\n",
       "      <td>0.179315</td>\n",
       "      <td>0.231264</td>\n",
       "      <td>0.432892</td>\n",
       "      <td>1.243444</td>\n",
       "      <td>5.786897</td>\n",
       "      <td>0.265666</td>\n",
       "      <td>0.233365</td>\n",
       "      <td>3.635416</td>\n",
       "      <td>...</td>\n",
       "      <td>0.753616</td>\n",
       "      <td>16.163872</td>\n",
       "      <td>261.270754</td>\n",
       "      <td>12.698031</td>\n",
       "      <td>3.258097</td>\n",
       "      <td>-4.504547</td>\n",
       "      <td>-7.723941</td>\n",
       "      <td>21.639599</td>\n",
       "      <td>468.272247</td>\n",
       "      <td>18.200478</td>\n",
       "    </tr>\n",
       "    <tr>\n",
       "      <th>4</th>\n",
       "      <td>0.010381</td>\n",
       "      <td>0.054589</td>\n",
       "      <td>0.159405</td>\n",
       "      <td>0.248570</td>\n",
       "      <td>0.393885</td>\n",
       "      <td>1.765291</td>\n",
       "      <td>5.786897</td>\n",
       "      <td>0.020712</td>\n",
       "      <td>-0.066329</td>\n",
       "      <td>3.576300</td>\n",
       "      <td>...</td>\n",
       "      <td>-1.957388</td>\n",
       "      <td>19.805545</td>\n",
       "      <td>392.259615</td>\n",
       "      <td>15.750211</td>\n",
       "      <td>3.258097</td>\n",
       "      <td>-7.369977</td>\n",
       "      <td>-3.001678</td>\n",
       "      <td>21.710643</td>\n",
       "      <td>471.352012</td>\n",
       "      <td>18.995066</td>\n",
       "    </tr>\n",
       "    <tr>\n",
       "      <th>...</th>\n",
       "      <td>...</td>\n",
       "      <td>...</td>\n",
       "      <td>...</td>\n",
       "      <td>...</td>\n",
       "      <td>...</td>\n",
       "      <td>...</td>\n",
       "      <td>...</td>\n",
       "      <td>...</td>\n",
       "      <td>...</td>\n",
       "      <td>...</td>\n",
       "      <td>...</td>\n",
       "      <td>...</td>\n",
       "      <td>...</td>\n",
       "      <td>...</td>\n",
       "      <td>...</td>\n",
       "      <td>...</td>\n",
       "      <td>...</td>\n",
       "      <td>...</td>\n",
       "      <td>...</td>\n",
       "      <td>...</td>\n",
       "      <td>...</td>\n",
       "    </tr>\n",
       "    <tr>\n",
       "      <th>1915</th>\n",
       "      <td>0.007568</td>\n",
       "      <td>0.043700</td>\n",
       "      <td>0.135620</td>\n",
       "      <td>0.432026</td>\n",
       "      <td>0.592181</td>\n",
       "      <td>3.827353</td>\n",
       "      <td>5.786897</td>\n",
       "      <td>-0.249652</td>\n",
       "      <td>0.027536</td>\n",
       "      <td>3.109707</td>\n",
       "      <td>...</td>\n",
       "      <td>-0.846537</td>\n",
       "      <td>36.328327</td>\n",
       "      <td>1319.747333</td>\n",
       "      <td>23.468506</td>\n",
       "      <td>3.258097</td>\n",
       "      <td>13.459637</td>\n",
       "      <td>12.881103</td>\n",
       "      <td>31.507441</td>\n",
       "      <td>992.718817</td>\n",
       "      <td>28.405027</td>\n",
       "    </tr>\n",
       "    <tr>\n",
       "      <th>1916</th>\n",
       "      <td>0.009184</td>\n",
       "      <td>0.043311</td>\n",
       "      <td>0.099797</td>\n",
       "      <td>0.123849</td>\n",
       "      <td>0.469726</td>\n",
       "      <td>1.220970</td>\n",
       "      <td>5.786897</td>\n",
       "      <td>0.115590</td>\n",
       "      <td>-0.126869</td>\n",
       "      <td>3.136201</td>\n",
       "      <td>...</td>\n",
       "      <td>-0.486023</td>\n",
       "      <td>24.441211</td>\n",
       "      <td>597.372792</td>\n",
       "      <td>16.507246</td>\n",
       "      <td>3.258097</td>\n",
       "      <td>7.609033</td>\n",
       "      <td>7.960503</td>\n",
       "      <td>34.104687</td>\n",
       "      <td>1163.129683</td>\n",
       "      <td>25.686558</td>\n",
       "    </tr>\n",
       "    <tr>\n",
       "      <th>1917</th>\n",
       "      <td>0.010056</td>\n",
       "      <td>0.037633</td>\n",
       "      <td>0.123160</td>\n",
       "      <td>0.133584</td>\n",
       "      <td>0.343140</td>\n",
       "      <td>1.867759</td>\n",
       "      <td>5.786897</td>\n",
       "      <td>-0.078471</td>\n",
       "      <td>-0.244528</td>\n",
       "      <td>2.862330</td>\n",
       "      <td>...</td>\n",
       "      <td>3.185221</td>\n",
       "      <td>27.200469</td>\n",
       "      <td>739.865496</td>\n",
       "      <td>17.506063</td>\n",
       "      <td>3.258097</td>\n",
       "      <td>-1.331790</td>\n",
       "      <td>-1.454075</td>\n",
       "      <td>15.174385</td>\n",
       "      <td>230.261950</td>\n",
       "      <td>10.939518</td>\n",
       "    </tr>\n",
       "    <tr>\n",
       "      <th>1918</th>\n",
       "      <td>0.009659</td>\n",
       "      <td>0.034684</td>\n",
       "      <td>0.076167</td>\n",
       "      <td>0.202100</td>\n",
       "      <td>0.542355</td>\n",
       "      <td>0.765709</td>\n",
       "      <td>5.786897</td>\n",
       "      <td>0.122279</td>\n",
       "      <td>0.211481</td>\n",
       "      <td>2.801508</td>\n",
       "      <td>...</td>\n",
       "      <td>-0.802595</td>\n",
       "      <td>12.734430</td>\n",
       "      <td>162.165716</td>\n",
       "      <td>10.499998</td>\n",
       "      <td>3.258097</td>\n",
       "      <td>2.039465</td>\n",
       "      <td>0.298659</td>\n",
       "      <td>10.307592</td>\n",
       "      <td>106.246461</td>\n",
       "      <td>7.636758</td>\n",
       "    </tr>\n",
       "    <tr>\n",
       "      <th>1919</th>\n",
       "      <td>0.008648</td>\n",
       "      <td>0.043958</td>\n",
       "      <td>0.071420</td>\n",
       "      <td>0.224478</td>\n",
       "      <td>0.391852</td>\n",
       "      <td>1.384504</td>\n",
       "      <td>5.786897</td>\n",
       "      <td>-0.191466</td>\n",
       "      <td>-0.129831</td>\n",
       "      <td>3.096026</td>\n",
       "      <td>...</td>\n",
       "      <td>-0.083252</td>\n",
       "      <td>17.629572</td>\n",
       "      <td>310.801803</td>\n",
       "      <td>13.893498</td>\n",
       "      <td>3.258097</td>\n",
       "      <td>0.897017</td>\n",
       "      <td>1.627607</td>\n",
       "      <td>12.876607</td>\n",
       "      <td>165.807008</td>\n",
       "      <td>10.416235</td>\n",
       "    </tr>\n",
       "  </tbody>\n",
       "</table>\n",
       "<p>1920 rows × 42 columns</p>\n",
       "</div>"
      ],
      "text/plain": [
       "      power_delta  power_theta  power_alpha  power_beta  power_gamma_l  \\\n",
       "0        0.009039     0.049249     0.170637    0.207070       0.592591   \n",
       "1        0.009777     0.047472     0.143067    0.284379       0.379257   \n",
       "2        0.010642     0.050325     0.169670    0.381042       0.314377   \n",
       "3        0.008656     0.054356     0.179315    0.231264       0.432892   \n",
       "4        0.010381     0.054589     0.159405    0.248570       0.393885   \n",
       "...           ...          ...          ...         ...            ...   \n",
       "1915     0.007568     0.043700     0.135620    0.432026       0.592181   \n",
       "1916     0.009184     0.043311     0.099797    0.123849       0.469726   \n",
       "1917     0.010056     0.037633     0.123160    0.133584       0.343140   \n",
       "1918     0.009659     0.034684     0.076167    0.202100       0.542355   \n",
       "1919     0.008648     0.043958     0.071420    0.224478       0.391852   \n",
       "\n",
       "      power_gamma_h  entropy_delta  entropy_theta  entropy_alpha  \\\n",
       "0          0.868308       5.786897       0.183102       0.205449   \n",
       "1          1.599922       5.786897      -0.077492      -0.019793   \n",
       "2          0.724036       5.786897      -0.116102       0.047344   \n",
       "3          1.243444       5.786897       0.265666       0.233365   \n",
       "4          1.765291       5.786897       0.020712      -0.066329   \n",
       "...             ...            ...            ...            ...   \n",
       "1915       3.827353       5.786897      -0.249652       0.027536   \n",
       "1916       1.220970       5.786897       0.115590      -0.126869   \n",
       "1917       1.867759       5.786897      -0.078471      -0.244528   \n",
       "1918       0.765709       5.786897       0.122279       0.211481   \n",
       "1919       1.384504       5.786897      -0.191466      -0.129831   \n",
       "\n",
       "      entropy_beta  ...  var_alpha   var_beta  var_gamma_l  var_gamma_h  \\\n",
       "0         3.366237  ...   3.669407  16.012046   256.385609    12.279704   \n",
       "1         3.407507  ...   0.482313  13.588423   184.645229    10.445988   \n",
       "2         3.400208  ...  -4.037805  15.978488   255.312091    13.392073   \n",
       "3         3.635416  ...   0.753616  16.163872   261.270754    12.698031   \n",
       "4         3.576300  ...  -1.957388  19.805545   392.259615    15.750211   \n",
       "...            ...  ...        ...        ...          ...          ...   \n",
       "1915      3.109707  ...  -0.846537  36.328327  1319.747333    23.468506   \n",
       "1916      3.136201  ...  -0.486023  24.441211   597.372792    16.507246   \n",
       "1917      2.862330  ...   3.185221  27.200469   739.865496    17.506063   \n",
       "1918      2.801508  ...  -0.802595  12.734430   162.165716    10.499998   \n",
       "1919      3.096026  ...  -0.083252  17.629572   310.801803    13.893498   \n",
       "\n",
       "      rms_delta  rms_theta  rms_alpha   rms_beta  rms_gamma_l  rms_gamma_h  \n",
       "0      3.258097   2.593729  -0.111713  14.721827   216.732197    11.871670  \n",
       "1      3.258097   7.744015   2.039077  19.326751   373.523302    15.529142  \n",
       "2      3.258097   2.934791   2.321771  12.930307   167.192835    10.035258  \n",
       "3      3.258097  -4.504547  -7.723941  21.639599   468.272247    18.200478  \n",
       "4      3.258097  -7.369977  -3.001678  21.710643   471.352012    18.995066  \n",
       "...         ...        ...        ...        ...          ...          ...  \n",
       "1915   3.258097  13.459637  12.881103  31.507441   992.718817    28.405027  \n",
       "1916   3.258097   7.609033   7.960503  34.104687  1163.129683    25.686558  \n",
       "1917   3.258097  -1.331790  -1.454075  15.174385   230.261950    10.939518  \n",
       "1918   3.258097   2.039465   0.298659  10.307592   106.246461     7.636758  \n",
       "1919   3.258097   0.897017   1.627607  12.876607   165.807008    10.416235  \n",
       "\n",
       "[1920 rows x 42 columns]"
      ]
     },
     "metadata": {},
     "output_type": "display_data"
    }
   ],
   "source": [
    "df_all_features = pd.DataFrame(all_features_2d, \n",
    "             columns=band_features_names)\n",
    "display(df_all_features)"
   ]
  },
  {
   "cell_type": "markdown",
   "metadata": {},
   "source": [
    "## Machine learning"
   ]
  },
  {
   "cell_type": "code",
   "execution_count": 32,
   "metadata": {},
   "outputs": [],
   "source": [
    "def normalize_data(data,nsamples,nfeatures):\n",
    "    data_normalized=np.zeros([nsamples,nfeatures])\n",
    "    #data[nsamples,nfeatures]\n",
    "    for ii in range(nfeatures):\n",
    "        max_data=max(data[:,ii])\n",
    "        min_data=min(data[:,ii])\n",
    "        data_normalized[:,ii]=(1/(max-min))*(data[:,ii]-min*np.ones([nsamples]))\n",
    "        return  data_normalized\n",
    "      "
   ]
  },
  {
   "cell_type": "code",
   "execution_count": 33,
   "metadata": {},
   "outputs": [],
   "source": [
    "nsamples=1920\n",
    "nfeatures=42\n",
    "data=all_features_2d\n",
    "#data_normalized= normalize_data(all_features_2d,1871,42)\n",
    "data_normalized=np.zeros([nsamples,nfeatures])\n",
    "    #data[nsamples,nfeatures]\n",
    "for ii in range(nfeatures):\n",
    "        max_data=max(data[:,ii])\n",
    "        min_data=min(data[:,ii])\n",
    "        data_normalized[:,ii]=(1/(max_data-min_data))*(data[:,ii]-min_data*np.ones([nsamples]))\n",
    "       # return  data_normalized"
   ]
  },
  {
   "cell_type": "code",
   "execution_count": 34,
   "metadata": {},
   "outputs": [
    {
     "data": {
      "text/plain": [
       "[<matplotlib.lines.Line2D at 0x257c8e91320>]"
      ]
     },
     "execution_count": 34,
     "metadata": {},
     "output_type": "execute_result"
    },
    {
     "data": {
      "image/png": "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\n",
      "text/plain": [
       "<Figure size 432x288 with 1 Axes>"
      ]
     },
     "metadata": {
      "needs_background": "light"
     },
     "output_type": "display_data"
    }
   ],
   "source": [
    "plt.plot(data_normalized[:,5])"
   ]
  },
  {
   "cell_type": "code",
   "execution_count": 35,
   "metadata": {},
   "outputs": [],
   "source": [
    "X=data_normalized\n",
    "y=epoch_label_2d"
   ]
  },
  {
   "cell_type": "code",
   "execution_count": 36,
   "metadata": {},
   "outputs": [],
   "source": [
    "from sklearn.model_selection import train_test_split\n",
    "from sklearn.metrics import accuracy_score\n",
    "from sklearn.model_selection import GridSearchCV\n",
    "from sklearn import svm\n",
    "import itertools\n",
    "# Variables \n",
    "X_train = []\n",
    "y_train = []\n",
    "X_val = []\n",
    "y_val = []\n",
    "X_test = []\n",
    "y_test = []\n",
    "C = []\n",
    "target_names = []\n",
    "gamma = [10**-11, 10**-9, 10**-7, 10**-5, 10**-3, 10**-1, 10]\n",
    "test_size=0.3\n",
    "validation_size=0.2\n",
    "\n",
    "# Split dataset into training and test set\n",
    "X_train, X_test, y_train, y_test = train_test_split(X, y, test_size=test_size, random_state=None)\n",
    "# Split training set into training and validation set\n",
    "X_train, X_val, y_train, y_val = train_test_split(X_train, y_train, test_size=validation_size, random_state=None)\n",
    "\n",
    "###########  Create and train the model #############\n",
    "# Create an SVM model by setting C and gamma if they\n",
    "# are received as input variables. Then it trains the\n",
    "# model with the received X_train and y_train \n",
    "#\n",
    "# Returns the trained model \n",
    "#\n",
    "#####################################################\n",
    "def train(X_train, y_train, kernel, c, gamma=None):\n",
    "\t#create the model with the specified kernel and gamma \n",
    "\tif gamma == None:\n",
    "\t\tmodel = svm.SVC(kernel=kernel, C=c)\n",
    "\telse:\n",
    "\t\tmodel = svm.SVC(kernel=kernel, C=c, gamma=gamma)\n",
    "\t#train the model \n",
    "\tmodel.fit(X_train, y_train)\n",
    "\t\n",
    "\treturn model \n",
    "\t \n",
    "\n",
    "################  Test the model  ###################\n",
    "# Receives the trained model, the X_test dataset and \n",
    "# its labels. Make a prediction on the model and \n",
    "# compute and print the accuracy. \n",
    "#\n",
    "# Returns the accuracy\n",
    "# \n",
    "#####################################################\n",
    "def test_model(model, X_test, y_test):\n",
    "\t# Make a prediction on the test set\n",
    "\ttest_predictions = model.predict(X_test)\n",
    "\ttest_predictions = np.round(test_predictions)\n",
    "\t# Report the accuracy of that prediction \n",
    "\taccuracy = accuracy_score(y_test, test_predictions)\n",
    "\n",
    "\treturn accuracy \n",
    "\n"
   ]
  },
  {
   "cell_type": "code",
   "execution_count": 37,
   "metadata": {},
   "outputs": [
    {
     "name": "stdout",
     "output_type": "stream",
     "text": [
      "Best parameters after gridSearch with 5-fold validation are:\n",
      "{'C': 10.0, 'gamma': 1e-11}\n",
      "Best score is: 0.95 \n",
      "Accuracy on the test set with the best parameters is: 0.96 \n",
      "\n",
      "How validation accuracy change modifying C:\n",
      "C: 0.001,\t score: 0.9442\n",
      "C: 0.010,\t score: 0.9442\n",
      "C: 0.100,\t score: 0.9517\n",
      "C: 1.000,\t score: 0.9517\n",
      "C: 10.000,\t score: 0.9665\n",
      "C: 100.000,\t score: 0.9628\n",
      "C: 1000.000,\t score: 0.9665\n",
      "Best score 0.9665\n",
      "Accuracy on the test set with best C: 1000.0000 is: 0.9757\n",
      "\n",
      "Performing Grid Search of the best parameters\n",
      "Max C value: 10.0000 and max Gamma: 1.00E-11\n",
      "Accuracy on the test set with best parameters is: 0.964\n",
      "Max C value: 10.0000 and max Gamma: 1.00E-09\n",
      "Accuracy on the test set with best parameters is: 0.964\n",
      "Max C value: 10.0000 and max Gamma: 1.00E-07\n",
      "Accuracy on the test set with best parameters is: 0.964\n",
      "Max C value: 10.0000 and max Gamma: 1.00E-05\n",
      "Accuracy on the test set with best parameters is: 0.964\n",
      "Max C value: 10.0000 and max Gamma: 1.00E-03\n",
      "Accuracy on the test set with best parameters is: 0.964\n",
      "Max C value: 10.0000 and max Gamma: 1.00E-01\n",
      "Accuracy on the test set with best parameters is: 0.964\n",
      "Max C value: 10.0000 and max Gamma: 1.00E+01\n",
      "Accuracy on the test set with best parameters is: 0.964\n",
      "Max C value: 10.0000 and max Gamma: 1.00E-11\n",
      "Accuracy on the test set with best parameters is: 0.964\n",
      "Max C value: 10.0000 and max Gamma: 1.00E-09\n",
      "Accuracy on the test set with best parameters is: 0.964\n",
      "Max C value: 10.0000 and max Gamma: 1.00E-07\n",
      "Accuracy on the test set with best parameters is: 0.964\n",
      "Max C value: 10.0000 and max Gamma: 1.00E-05\n",
      "Accuracy on the test set with best parameters is: 0.964\n",
      "Max C value: 10.0000 and max Gamma: 1.00E-03\n",
      "Accuracy on the test set with best parameters is: 0.964\n",
      "Max C value: 10.0000 and max Gamma: 1.00E-01\n",
      "Accuracy on the test set with best parameters is: 0.964\n",
      "Max C value: 10.0000 and max Gamma: 1.00E+01\n",
      "Accuracy on the test set with best parameters is: 0.964\n",
      "[[542   6]\n",
      " [ 11  17]]\n",
      "0.9704861111111112\n",
      "svm_accuracy= 0.9739583333333334\n"
     ]
    }
   ],
   "source": [
    "\n",
    "############  Plot Decision Boundaries ################\n",
    "# Receives the train data, the model, the title to give \n",
    "# to the figure and the folder where to save the figure\n",
    "# It firsts creates a mesh of point to plot in, then it \n",
    "# predicts the decision boundaries for the classifier, \n",
    "# plot the contourf and the data as data points. It \n",
    "# creates the folder where to save the image if not \n",
    "# already exists and procede to save the image inside\n",
    "# \n",
    "#####################################################\n",
    "def plot_boundaries(X_train, y_train, model, title, folder):\n",
    "\t# Create a mesh of point to plot in\n",
    "\tx_min, x_max = X_train[:, 0].min() - 1, X_train[:, 0].max() + 1\n",
    "\ty_min, y_max = X_train[:, 1].min() - 1, X_train[:, 1].max() + 1\n",
    "\txx, yy = np.meshgrid(np.arange(x_min, x_max, 0.1), np.arange(y_min, y_max, 0.1))\n",
    "\t# Start plotting the figure\n",
    "\tplt.figure()\n",
    "\t# Predict the decision boundaries for the classifier\n",
    "\tZ = model.predict(np.c_[xx.ravel(), yy.ravel()])\n",
    "\tZ = Z.reshape(xx.shape)\n",
    "\t# Plot contours\n",
    "\tplt.contourf(xx, yy, Z, cmap=plt.cm.RdYlBu, alpha=0.8)\n",
    "\t# Plot points\n",
    "\tplot_colors = \"ryb\"\n",
    "\tfor i, color in zip(np.unique(y_train), plot_colors):\n",
    "\t\tidx = np.where(y_train == i)\n",
    "\t\tplt.scatter(X_train[idx, 0], X_train[idx, 1], c=color, \n",
    "\t\t\t  cmap=plt.cm.RdYlBu, label=target_names[i], s=15, edgecolors='black')\n",
    "\t# Set labels and titles\n",
    "\tplt.xlabel('Sepal length')\n",
    "\tplt.ylabel('Sepal width')\n",
    "\tplt.title(title)\n",
    "\t# Create folder to save the created image inside\n",
    "\tif not os.path.exists(folder):\n",
    "\t\tos.makedirs(folder)\n",
    "\t# Save figure inside the specified folder and close plt\n",
    "\tplt.legend()\n",
    "\tplt.savefig(folder + \"/\" + title + \".jpg\")\n",
    "\tplt.close()\n",
    "\t\n",
    "\treturn\n",
    "#################################\n",
    "\n",
    "\n",
    "# Create array of C value parameters if not already done\n",
    "accuracies = []\n",
    "if(len(C) == 0):\n",
    "\t\t\tC.append(10**-3)\n",
    "\t\t\tfor i in range(0, 6):\n",
    "\t\t\t\tC.append(C[i]*10)\n",
    "\n",
    "# Merge Training and Validation set \n",
    "X_train = np.concatenate((X_train, X_val))\n",
    "y_train = np.concatenate((y_train, y_val))\n",
    "#X_val = []\n",
    "# Perform a Grid Search for gamma and c with k-fold validation\n",
    "parameters = dict(gamma=gamma, C=C)\n",
    "#svc = svm.SVC(kernel='rbf')\n",
    "SVM_Kernel=\"linear\"#rbf\n",
    "svc = svm.SVC(kernel=SVM_Kernel)\n",
    "kfold=10\n",
    "grid = GridSearchCV(svc, param_grid=parameters, cv=kfold)\n",
    "# Fit the model\n",
    "grid.fit(X_train, y_train)\n",
    "# Print the best params and score\n",
    "print(\"Best parameters after gridSearch with 5-fold validation are:\\n%s\" %\n",
    "            (grid.best_params_))\n",
    "print(\"Best score is: %0.2f \" % (grid.best_score_))\n",
    "# Evaluate the best parameters on the test set\n",
    "grid.predict(X_test)\n",
    "score = grid.score(X_test, y_test)\n",
    "print(\"Accuracy on the test set with the best parameters is: %0.2f \" % (score))\n",
    "##\n",
    "\n",
    "for c in C:\n",
    "\t# a)Train a rbf kernel on the training set\n",
    "\tmodel = train(X_train, y_train, SVM_Kernel, c, \"auto\")\n",
    "\t# b)Plot the data and the decision boundaries\n",
    "\t\n",
    "  #  plot_boundaries(X_train, y_train, model,\n",
    "\t              #  \"RBF kernel with C=\" + str(c), \"BuondariesRBF\")\n",
    "\t\n",
    "    # c)Evaluate method on the validation set\n",
    "\taccuracies.append(test_model(model, X_val, y_val))\n",
    "# Show how validation accuracy change when we modify C\n",
    "print('\\n'+'How validation accuracy change modifying C:')\n",
    "for c, score in zip(C, accuracies):\n",
    "\tprint(\"C: %.3f,\\t score: %.4f\" % (c, score))\n",
    "print('Best score %.4f' % (np.amax(accuracies)))\n",
    "\n",
    "# Plot the data above on a graph\n",
    "#plt.axes(xscale='log')\n",
    "#plt.plot(C, accuracies, marker='o')\n",
    "#plt.show()\n",
    "\n",
    "# Use the best value of C and evaluate the model on the test set.\n",
    "# There will be more than one equal C value\n",
    "best_accuracies = np.argwhere(accuracies == np.amax(accuracies))\n",
    "best_accuracy = 0\n",
    "for best in best_accuracies: \n",
    "\t# Train a svm with rbf kernel on the training set with the best c value\n",
    "\tmodel = train(X_train, y_train, SVM_Kernel, C[best[0]], \"auto\")\n",
    "\t# Evaluate model on the test set\n",
    "\taccuracy = test_model(model, X_test, y_test)\n",
    "\t# Update best accuracy\n",
    "\tif(accuracy > best_accuracy):\n",
    "\t\tbest_accuracy = accuracy\n",
    "\t\tc = C[best[0]]\n",
    "print(\"Accuracy on the test set with best C: %.4f is: %.4f\"  %(c, best_accuracy))\n",
    "\t\t\n",
    "\t\t\n",
    "# Perform a Grid Search of the best parameters for an RBF kernel setting c and gamma\n",
    "print(\"\\nPerforming Grid Search of the best parameters\")\n",
    "accuracies=[]\n",
    "\n",
    "for c, g in list(itertools.product(C, gamma)) :\n",
    "\t# Train a rbf kernel on the training set\n",
    "\tmodel = train(X_train, y_train, SVM_Kernel, c, g)\n",
    "\t# Evaluate method on the validation set\n",
    "\taccuracies.append(test_model(model, X_val, y_val))\n",
    "\t#print(\"C: %.1E, G: %.1E, accuracy: %.2f\" %(c, g,test_model(model, X_val, y_val) ))\n",
    "# Save results in a pandas Dataframe \n",
    "gridSearchTable = pd.DataFrame(np.array(accuracies).reshape(len(C),len(gamma)), np.array(C), np.array(gamma))\n",
    "# Save the table into a .csv file\n",
    "gridSearchTable.to_csv(\"GridSearchTable.csv\")\n",
    "# Search for the best C and Gamma\n",
    "npa = gridSearchTable.values\n",
    "maxCIndex, maxGIndex = np.where(npa == np.amax(npa))\n",
    "\n",
    "for c, g in zip(maxCIndex, maxGIndex):\n",
    "\tmaxC = 10#C[c]\n",
    "\tmaxGamma = gamma[g]\n",
    "\tprint(\"Max C value: %.4f and max Gamma: %.2E\" % (maxC, maxGamma))\n",
    "\t# Train the model with the best parameters\n",
    "\tmodel = train(X_train, y_train, SVM_Kernel, maxC, maxGamma)\n",
    "\t# Evaluate model on the test set\n",
    "\taccuracy = test_model(model, X_test, y_test)\n",
    "\tprint(\"Accuracy on the test set with best parameters is: %.3f\" % (accuracy))\n",
    "\t# Plot the decision boundaries\n",
    "\t#plot_boundaries(X_train[:,1], y_train, model,\"svm\", \"GridSearchRBF\")#, \"RBF kernel with best C=\" +\n",
    "         #        str(maxC) + \" and gamma=\" + str(maxGamma), \"GridSearchRBF\")\n",
    "###PCA\n",
    "from sklearn.decomposition import PCA\n",
    "\n",
    "pca = PCA()\n",
    "X_train_p = pca.fit_transform(X_train)\n",
    "X_test_p = pca.transform(X_test)\n",
    "\n",
    "explained_variance = pca.explained_variance_ratio_\n",
    "\n",
    "pca = PCA(n_components=10)\n",
    "X_train = pca.fit_transform(X_train)\n",
    "X_test = pca.transform(X_test)\n",
    "\n",
    "from sklearn.ensemble import RandomForestClassifier\n",
    "\n",
    "classifier = RandomForestClassifier(max_depth=2, random_state=0)\n",
    "classifier.fit(X_train, y_train)\n",
    "\n",
    "# Predicting the Test set results\n",
    "y_pred = classifier.predict(X_test)\n",
    "\n",
    "from sklearn.metrics import confusion_matrix\n",
    "from sklearn.metrics import accuracy_score\n",
    "\n",
    "cm = confusion_matrix(y_test, y_pred)\n",
    "print(cm)\n",
    "print(accuracy_score(y_test, y_pred))\n",
    "\n",
    "\n",
    "SVM_Kernel=\"rbf\"#‘linear’, ‘rbf’, ‘poly’,sigmoid’\n",
    "\n",
    "svc = svm.SVC(kernel=SVM_Kernel)\n",
    "kfold=10\n",
    "grid = GridSearchCV(svc, param_grid=parameters, cv=kfold)\n",
    "# Fit the model\n",
    "grid.fit(X_train, y_train)\n",
    "accuracy_list=[]\n",
    "for c, g in zip(maxCIndex, maxGIndex):\n",
    "        maxC = 10#C[c]\n",
    "        maxGamma = gamma[g]\n",
    "        #print(\"Max C value: %.4f and max Gamma: %.2E\" % (maxC, maxGamma))\n",
    "        # Train the model with the best parameters\n",
    "        model = train(X_train, y_train, SVM_Kernel, maxC, maxGamma)\n",
    "        # Evaluate model on the test set\n",
    "        acc = test_model(model, X_test, y_test)\n",
    "        accuracy_list.append(acc)\n",
    "        #print(\"Accuracy on the test set with best parameters is: %.3f\" % (accuracy))\n",
    "            \n",
    "print('svm_accuracy=',max(accuracy_list))\n",
    "\t# Plot the decision boundaries\n",
    "#\tplot_boundaries(X_train[:,1], y_train, model,\"svm\", \"GridSearchRBF\")#, \"RBF kernel with best C=\" +\n"
   ]
  },
  {
   "cell_type": "code",
   "execution_count": 38,
   "metadata": {},
   "outputs": [
    {
     "name": "stdout",
     "output_type": "stream",
     "text": [
      "knn_accuracy= 0.9739583333333334\n",
      "bagging_accuracy 0.9635416666666666\n",
      "RandomForest_clf _accuracy= 0.9791666666666666\n"
     ]
    }
   ],
   "source": [
    "########KNN\n",
    "from sklearn.neighbors import KNeighborsClassifier as KNN\n",
    "# try running from k=1 through 25 and record testing accuracy\n",
    "k_range=range(1,26)\n",
    "scores={}\n",
    "score_list=[]\n",
    "for k in k_range:\n",
    "        knn_clf=KNN(n_neighbors=k)\n",
    "        knn_clf.fit(X_train, y_train)\n",
    "        y_pred=knn_clf.predict(X_test)\n",
    "        scores[k]=accuracy_score(y_test, y_pred)\n",
    "        score_list.append(scores[k])\n",
    "print('knn_accuracy=',max(score_list))\n",
    "\n",
    "### Ensemble classifier\n",
    "\n",
    "from sklearn.ensemble import BaggingClassifier\n",
    "\n",
    "bagging = BaggingClassifier(KNN(),\n",
    "                            max_samples=0.5, max_features=0.5)\n",
    "bagging.fit(X_train, y_train)\n",
    "y_pred=bagging.predict(X_test)\n",
    "bagging_accuracy=accuracy_score( y_test, y_pred)\n",
    "print('bagging_accuracy',bagging_accuracy)\n",
    "\n",
    "from sklearn.ensemble import RandomForestClassifier\n",
    "RandomForest_accuracy={}\n",
    "RandomForest_accuracy_list=[]\n",
    "for max_depth_f in range (1,20):\n",
    "        RandomForest= RandomForestClassifier(max_depth=max_depth_f, random_state=2)\n",
    "        RandomForest.fit(X_train, y_train)\n",
    "        y_pred=RandomForest.predict(X_test)\n",
    "        RandomForest_accuracy[max_depth_f]=accuracy_score( y_test, y_pred)\n",
    "        RandomForest_accuracy_list.append(RandomForest_accuracy[max_depth_f])\n",
    "print('RandomForest_clf _accuracy=',max(RandomForest_accuracy_list))\n"
   ]
  },
  {
   "cell_type": "markdown",
   "metadata": {},
   "source": [
    "# Deep learning \n",
    "## CNN\n",
    "\n",
    "using cwt as input cnn\n",
    "using power spectrum as input Cnn"
   ]
  },
  {
   "cell_type": "code",
   "execution_count": 39,
   "metadata": {},
   "outputs": [
    {
     "name": "stdout",
     "output_type": "stream",
     "text": [
      "107\n",
      "1811\n"
     ]
    }
   ],
   "source": [
    "num_non_siz=-1\n",
    "num_siz=-1\n",
    "for sub_i in range (num_subs):\n",
    "    for epo_i in range (num_epochs):\n",
    "        if data_label[sub_i,epo_i]==0:\n",
    "            num_non_siz=num_non_siz+1 \n",
    "        elif data_label[sub_i,epo_i]==1:\n",
    "            num_siz=num_siz+1\n",
    "print(num_siz)\n",
    "print(num_non_siz)"
   ]
  },
  {
   "cell_type": "code",
   "execution_count": 40,
   "metadata": {},
   "outputs": [
    {
     "data": {
      "text/plain": [
       "16.925233644859812"
      ]
     },
     "execution_count": 40,
     "metadata": {},
     "output_type": "execute_result"
    }
   ],
   "source": [
    "num_non_siz/num_siz"
   ]
  },
  {
   "cell_type": "code",
   "execution_count": 75,
   "metadata": {},
   "outputs": [],
   "source": [
    "\n",
    "non_siz_epochs=np.zeros([num_non_siz+1,epoch_len])\n",
    "siz_epochs=np.zeros([1728,epoch_len])\n",
    "\n",
    "\n",
    "epoch_label_2d=np.zeros([num_subs* num_epochs])\n",
    "n_non_siz=-1\n",
    "n_siz=-1\n",
    "for sub_i in range (num_subs):\n",
    "    for epo_i in range (num_epochs):\n",
    "        nn=nn+1        \n",
    "        \n",
    "        if data_label[sub_i,epo_i]==0:\n",
    "            n_non_siz=n_non_siz+1\n",
    "            non_siz_epochs[n_non_siz,:]=filtered_data[sub_i,epo_i,:]\n",
    "        elif data_label[sub_i,epo_i]==1:\n",
    "            for ii in range(16):\n",
    "                n_siz=n_siz+1\n",
    "                siz_epochs[n_siz,:]=filtered_data[sub_i,epo_i,:]\n",
    "        \n"
   ]
  },
  {
   "cell_type": "code",
   "execution_count": 87,
   "metadata": {},
   "outputs": [
    {
     "data": {
      "text/plain": [
       "[<matplotlib.lines.Line2D at 0x257d6ac97f0>]"
      ]
     },
     "execution_count": 87,
     "metadata": {},
     "output_type": "execute_result"
    },
    {
     "data": {
      "image/png": "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\n",
      "text/plain": [
       "<Figure size 432x288 with 1 Axes>"
      ]
     },
     "metadata": {
      "needs_background": "light"
     },
     "output_type": "display_data"
    }
   ],
   "source": [
    "n_siz\n",
    "#16*num_siz+1\n",
    "plt.plot(non_siz_epochs[1727,:])"
   ]
  },
  {
   "cell_type": "markdown",
   "metadata": {},
   "source": [
    "## pOWER SPECTRUM\n",
    "SHORT FOURIER TRANSFORM"
   ]
  },
  {
   "cell_type": "code",
   "execution_count": 89,
   "metadata": {},
   "outputs": [],
   "source": [
    "windowSize=sfreq*2\n",
    "windowTaper= 'hann'\n",
    "#Sampling rate:', EEGsrate\n",
    "EEGsrate=sfreq #Sampling rate\n",
    "timeStep = 10\n",
    "#detrended_Pnts[int(saveTime[0]):int(saveTime[1])+1]\n",
    "data_f=siz_epochs[n_siz,:]\n",
    "#data_f=data_f.reshape(data_f.shape[1])\n",
    "#np.shape(data_f)\n",
    "f, t, Zxx = signal.stft(data_f, \n",
    "                        EEGsrate, nperseg=windowSize, window = windowTaper,\n",
    "                           noverlap= windowSize - timeStep)\n",
    "     "
   ]
  },
  {
   "cell_type": "code",
   "execution_count": null,
   "metadata": {},
   "outputs": [],
   "source": [
    "np.shape(Zxx)"
   ]
  },
  {
   "cell_type": "code",
   "execution_count": 90,
   "metadata": {},
   "outputs": [
    {
     "data": {
      "image/png": "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\n",
      "text/plain": [
       "<Figure size 432x288 with 2 Axes>"
      ]
     },
     "metadata": {
      "needs_background": "light"
     },
     "output_type": "display_data"
    }
   ],
   "source": [
    "import matplotlib.pyplot as plt\n",
    "from numpy import log10\n",
    "frequencyStop=150\n",
    "if frequencyStop < EEGsrate / 2: # less than nyquist.\n",
    "        # filter the frequency.\n",
    "        stftFilter = np.argmin(np.absolute(f - frequencyStop))\n",
    "        tf_frequency = f[:stftFilter+1].copy()\n",
    "        tf_log_power = log10(np.abs(Zxx[:stftFilter+1]))\n",
    "#tf_frequency = f.copy()\n",
    "startTime = -1500\n",
    "endTime = 3500\n",
    "tf_time = np.linspace(startTime, endTime, t.shape[0])\n",
    "#tf_log_power = log10(np.abs(Zxx.copy()))\n",
    "plt.pcolormesh(tf_time, tf_frequency, \n",
    "               tf_log_power,cmap=plt.cm.jet)\n",
    "\n",
    "ymax = np.amax(tf_frequency)\n",
    "plt.vlines(x = 0,ymin = 0, ymax = ymax, linestyles='dashed')\n",
    "plt.xlabel('Time (ms)')\n",
    "plt.ylabel('Frequency (Hz)')\n",
    "plt.title('STFT TF Decomposition')\n",
    "clb = plt.colorbar()"
   ]
  },
  {
   "cell_type": "markdown",
   "metadata": {
    "colab_type": "text",
    "id": "Oe3h7w3tVbhK"
   },
   "source": [
    "### Welch\n",
    "\n",
    "Now lets look at how we use the Welch method to gain a spectral estimation of a signal.\n",
    "\n",
    "The Welch method is related to a Short-time Fourier transform in that it is a spectral density estimation method that calculates a periodogram for windowed sections of data. Overlapping segments are windowed, as this helps mitagate the loss of information at the edges of the time window, with a discrete Fourier transform applied to calculate the periodogram. Data is squared and each periodogram averaged to reduce the variance of each power measure.\n",
    "\n",
    "The Welch method is a common and easy method to apply in both Matlab and Python. In Python we can use scipy to get out the power spectral density.\n",
    "\n",
    "__NOTES__\n",
    "- The code I wrote below will not work with frequencies below 1hz IF we are using 2 second windows because want want at least 2 cycles of each frequency (e.g. for 0.5Hz you'd need a 4 second window)."
   ]
  },
  {
   "cell_type": "markdown",
   "metadata": {
    "colab_type": "text",
    "id": "cczp_iVY2S78"
   },
   "source": [
    "We will just select the frequency range we are interested in from this output and get a mean value"
   ]
  },
  {
   "cell_type": "code",
   "execution_count": null,
   "metadata": {},
   "outputs": [],
   "source": [
    "#data_f=filtered_data\n",
    "#data_f=data_f.reshape(data_f.shape[1])"
   ]
  },
  {
   "cell_type": "code",
   "execution_count": null,
   "metadata": {},
   "outputs": [],
   "source": [
    "%%time\n",
    "from scipy.signal import welch\n",
    "import numpy as np\n",
    "\n",
    "def bandpower(data, sf, band, output = False):\n",
    "    band = np.asarray(band)\n",
    "    low, high = band\n",
    "\n",
    "    # Compute the periodogram (Welch)\n",
    "    freqs, psd = welch(data, \n",
    "                       sf, \n",
    "                       nperseg=(2 / low)*sf,\n",
    "                       scaling='density', \n",
    "                       axis=0)\n",
    "    \n",
    "    # put into a df\n",
    "    # put into a df\n",
    "    data_psd={'freqs': freqs, 'power': psd}\n",
    "    #psd2 = pd.DataFrame(psd, index = freqs, columns = psd)\n",
    "    psd2=pd.DataFrame(data_psd)\n",
    "    print(color.BOLD+'Welch Output'+color.END)\n",
    "    #psd.index.name = 'Hz'\n",
    "    #psd.columns = ['Power']\n",
    "   \n",
    "    \n",
    "    if output:\n",
    "        display(psd2)\n",
    "    \n",
    "    # Find closest indices of band in frequency vector\n",
    "    idx_min = np.argmax(np.round(freqs) > low) - 1\n",
    "    idx_max = np.argmax(np.round(freqs) > high)\n",
    "    \n",
    "    # select frequencies of interest\n",
    "    psd2 = psd2.iloc[idx_min:idx_max,:]\n",
    "    \n",
    "    # get the mean of each channel over all frequencies in the band\n",
    "    psd2 = psd2.mean()\n",
    "    \n",
    "    if output:\n",
    "        print(color.BOLD+'\\nMean Frequency Band'+color.END)\n",
    "        display(psd2)\n",
    "    \n",
    "    return psd2\n",
    "data=filtered_data[sub_i,epo_i,:]\n",
    "baseline_power = bandpower(data, sfreq, [8,12], output=True)"
   ]
  },
  {
   "cell_type": "markdown",
   "metadata": {
    "colab_type": "text",
    "id": "HwtXUlfN2f5m"
   },
   "source": [
    "Now we want to get mean values for multipule frequency bands, so we will make a function that uses the previous function in order to get these values."
   ]
  },
  {
   "cell_type": "code",
   "execution_count": null,
   "metadata": {},
   "outputs": [],
   "source": [
    "def power_measures(data, output=False):\n",
    "    bandpasses = [[[0.3,4],'power_delta'],\n",
    "                  [[4,8],'power_theta'],\n",
    "                  [[8,12],'power_alpha'],\n",
    "                  [[12,30],'power_beta'],\n",
    "                  [[30,70],'power_gamma']\n",
    "                 ]\n",
    "    \n",
    "    welch_df = pd.DataFrame()\n",
    "    for bandpass, freq_name in bandpasses:\n",
    "        bandpass_data = bandpower(data, sample_rate, bandpass)\n",
    "        #bandpass_data.index = [freq_name]\n",
    "        \n",
    "        if welch_df.empty:\n",
    "            welch_df = bandpass_data\n",
    "\n",
    "        else:\n",
    "            welch_df = pd.concat([welch_df, bandpass_data])\n",
    "        \n",
    "    welch_df = welch_df.T\n",
    "    \n",
    "    if output:\n",
    "        display(welch_df)\n",
    "    \n",
    "    return welch_df\n",
    "\n",
    "print(color.BOLD+color.UNDERLINE+'Baseline Mean Power'+color.END)\n",
    "baseline_power = power_measures(data_f, output=True)\n",
    "print()\n",
    "#print(color.BOLD+color.UNDERLINE+'Seizure Mean Power'+color.END)\n",
    "#seizure_power = power_measures(seizure_df, output=True)"
   ]
  },
  {
   "cell_type": "markdown",
   "metadata": {
    "colab_type": "text",
    "id": "85IjRz_J9aV1"
   },
   "source": [
    "## Wavelet Transform\n",
    "\n",
    "Another common spectral analysis approach is a wavelet transformation (WT). \n",
    "\n",
    "Wavelets can be used to analyse time series with nonstationary power at different frequency bands<sup>3</sup>, express discontinuities caused by recording apparatus<sup>5</sup>, and are useful for identifying and removing artefacts<sup>6,7,8</sup>. \n",
    "\n",
    "Several oscillatory kernel-based wavelets are projected onto a signal, dividing the data into different frequency components which are each analysed in respect to their scale<sup>1,2,3</sup>. A 'family' wavelet is a group of functions that is defined by stretching or shrinking a wavelet (dilation) and moving the wavelet to different positions in time (translation)<sup>4</sup>.\n",
    "\n",
    "Many families exist as can be seen below.\n",
    "    \n",
    "---\n",
    "\n",
    "1. Kiymik, M. K., Güler, I., Dizibüyük, A., & Akin, M. (2005). Comparison of STFT and wavelet transform methods in determining epileptic seizure activity in EEG signals for real-time application. Computers in Biology and Medicine, 35(7), 603–616. https://doi.org/10.1016/j.compbiomed.2004.05.001\n",
    "2. Sakkalis, V., Cassar, T., Zervakis, M., Camilleri, K. P., Fabri, S. G., Bigan, C., … Micheloyannis, S. (2008). Parametric and nonparametric EEG analysis for the evaluation of EEG activity in young children with controlled epilepsy. Computational Intelligence and Neuroscience, 2008. https://doi.org/10.1155/2008/462593\n",
    "3. Sakkalis, V., Zervakis, M., & Micheloyannis, S. (2006). Significant EEG features involved in mathematical reasoning: Evidence from wavelet analysis. Brain Topography, 19(1–2), 53–60. https://doi.org/10.1007/s10548-006-0012-z\n",
    "4. Rosso, O. A., Martin, M. T., Figliola, A., Keller, K., & Plastino, A. (2006). EEG analysis using wavelet-based information tools. Journal of Neuroscience Methods, 153(2), 163–182. https://doi.org/10.1016/j.jneumeth.2005.10.009\n",
    "5. Akin, M., & Kiymik, M. K. (2000). Application of periodogram and AR spectral analysis to EEG signals. Journal of Medical Systems, 24(4), 247–256. https://doi.org/10.1023/A:1005553931564\n",
    "6. Khatun, S., Mahajan, R., & Morshed, B. I. (2016). Comparative Study of Wavelet-Based Unsupervised Ocular Artifact Removal Techniques for Single-Channel EEG Data. IEEE Journal of Translational Engineering in Health and Medicine, 4(December 2015). https://doi.org/10.1109/JTEHM.2016.2544298\n",
    "7. Mammone, N., & Morabito, F. C. (2014). Enhanced automatic wavelet independent component analysis for electroencephalographic artifact removal. Entropy, 16(12), 6553–6572. https://doi.org/10.3390/e16126553\n",
    "8. Olund, T., Duun-Henriksen, J., Kjaer, T. W., & Sorensen, H. B. D. (2014). Automatic detection and classification of artifacts in single-channel EEG. 2014 36th Annual International Conference of the IEEE Engineering in Medicine and Biology Society, EMBC 2014, 922–925. https://doi.org/10.1109/EMBC.2014.6943742"
   ]
  },
  {
   "cell_type": "markdown",
   "metadata": {
    "colab_type": "text",
    "id": "bHfiksRY9lrn"
   },
   "source": [
    "### Discrete Wavelet Transform\n",
    "\n",
    "Lets start by looking at a simple Haar wavelet.\n",
    "\n",
    "**TODO**\n",
    "- add brief description of what makes it discrete"
   ]
  },
  {
   "cell_type": "code",
   "execution_count": null,
   "metadata": {},
   "outputs": [],
   "source": [
    "from pywt import families\n"
   ]
  },
  {
   "cell_type": "code",
   "execution_count": null,
   "metadata": {},
   "outputs": [],
   "source": [
    "from pywt import Wavelet\n",
    "\n",
    "wavelet = Wavelet('Haar')\n",
    "print(wavelet)"
   ]
  },
  {
   "cell_type": "markdown",
   "metadata": {
    "colab_type": "text",
    "id": "46H-a_cG9s7G"
   },
   "source": [
    "As can be seen below, this appears as a square wave. Essentally a Haar transform just cross-multiplies a function against this wave with various shifts and stretches in time."
   ]
  },
  {
   "cell_type": "code",
   "execution_count": null,
   "metadata": {},
   "outputs": [],
   "source": [
    "import matplotlib.pyplot as plt\n",
    "\n",
    "def plot_wavelet(wavelet):\n",
    "\n",
    "    fig, axs = plt.subplots(3,2, figsize=(11,11), squeeze =True, sharex=True, sharey=True)\n",
    "    axs = axs.flatten()\n",
    "    for i, level in enumerate([1, 2, 3, 4, 10, 15]):\n",
    "        try:\n",
    "            [psi, x] = wavelet.wavefun(level=level)\n",
    "        except:\n",
    "            [phi, psi, x] = wavelet.wavefun(level=level)\n",
    "        axs[i].plot(x, psi)\n",
    "        axs[i].text(0.85, 0.9, \"Level = \"+str(level), ha='center', va='center', transform=axs[i].transAxes)\n",
    "\n",
    "    plt.subplots_adjust(wspace=0, hspace=0)\n",
    "    plt.show()\n",
    "\n",
    "plot_wavelet(wavelet)"
   ]
  },
  {
   "cell_type": "markdown",
   "metadata": {
    "colab_type": "text",
    "id": "mBJiPMwd9vZE"
   },
   "source": [
    "The Daubechies 4 wavelet (db4) is the most commonly used wavelet for EEG and epilepsy seizure detection as it is smooths the frequency filtering enough to characterise the EEG, but is also computationally efficient<sup>1,2,3</sup>.\n",
    "\n",
    "---\n",
    "1. Kjær, T. W., Sorensen, H. B. D., Groenborg, S., Pedersen, C. R., & Duun-Henriksen, J. (2017). Detection of Paroxysms in Long-Term, Single Channel EEG-Monitoring of Patients with Typical Absence Seizure. IEEE Journal of Translational Engineering in Health and Medicine, 5(September 2016). https://doi.org/10.1109/JTEHM.2017.2649491\n",
    "2. Subasi, A. (2007). EEG signal classification using wavelet feature extraction and a mixture of expert model. Expert Systems with Applications, 32(4), 1084–1093. https://doi.org/10.1016/j.eswa.2006.02.005\n",
    "3. Adeli, H., Zhou, Z., & Dadmehr, N. (2003). Analysis of EEG records in an epileptic patient using wavelet transform. Journal of Neuroscience Methods, 123(1), 69–87. https://doi.org/10.1016/S0165-0270(02)00340-0"
   ]
  },
  {
   "cell_type": "code",
   "execution_count": null,
   "metadata": {},
   "outputs": [],
   "source": [
    "plot_wavelet(Wavelet('db4'))"
   ]
  },
  {
   "cell_type": "markdown",
   "metadata": {
    "colab_type": "text",
    "id": "qlB6EJOx94pt"
   },
   "source": [
    "Now lets get the list of arrays out, each represeting the coefficients at a specific level. Now I am using a 'decimated' transform here so the length of data going in is different to the length out.\n",
    "\n",
    "__Decimation at 256 hz with a Daubechies 4 wavelet__\n",
    "- D1: 128 - 256\n",
    "\n",
    "- D2: 32 - 64 (Gamma)\n",
    "\n",
    "- D3: 16 - 32 (Beta)\n",
    "\n",
    "- D4: 8 - 16 (Alpha)\n",
    "\n",
    "- D5: 4 - 8 (Theta)\n",
    "\n",
    "- A5: 0 - 4 (Delta)\n"
   ]
  },
  {
   "cell_type": "code",
   "execution_count": null,
   "metadata": {},
   "outputs": [],
   "source": [
    "from scipy.fftpack import fft\n",
    "def get_fft_values(y_values, T, N, f_s):\n",
    "    f_values = np.linspace(0.0, 1.0/(2.0*T), N//2)\n",
    "    fft_values_ = fft(y_values)\n",
    "    fft_values = 2.0/N * np.abs(fft_values_[0:N//2])\n",
    "    return f_values, fft_values\n",
    "t_n = 1/512\n",
    "tend = 10000\n",
    "\n",
    "T = t_n / N\n",
    "f_s = 512\n",
    "time=np.linspace(0, t_n, num=tend) \n",
    " \n",
    "f_values1, fft_values1 = get_fft_values(data_f, T, tend, f_s)\n",
    "\n",
    "fig, axarr = plt.subplots(nrows=2, ncols=1, figsize=(12,8))\n",
    "axarr[0].plot(time, data_f[0:tend])\n",
    "\n",
    "axarr[1].plot(f_values1, fft_values1)\n",
    "\n",
    "plt.tight_layout()\n",
    "plt.show()"
   ]
  },
  {
   "cell_type": "code",
   "execution_count": null,
   "metadata": {},
   "outputs": [],
   "source": [
    "import pywt\n",
    "t_n = 1/512\n",
    "tend = 10000\n",
    "\n",
    "T = t_n / N\n",
    "f_s = 512 \n",
    "    \n",
    "fig, ax = plt.subplots(figsize=(6,1))\n",
    "ax.set_title(\"Original Signal: \")\n",
    "ax.plot(data_f[1:tend])\n",
    "plt.show()\n",
    "    \n",
    "data_w = data_f[1:tend]\n",
    "waveletname = 'db4'\n",
    " \n",
    "fig, axarr = plt.subplots(nrows=5, ncols=2, figsize=(6,6))\n",
    "for ii in range(5):\n",
    "    (data, coeff_d) = pywt.dwt(data_w, waveletname)\n",
    "    axarr[ii, 0].plot(data_w, 'r')\n",
    "    axarr[ii, 1].plot(coeff_d, 'g')\n",
    "    axarr[ii, 0].set_ylabel(\"Level {}\".format(ii + 1), fontsize=14, rotation=90)\n",
    "    axarr[ii, 0].set_yticklabels([])\n",
    "    if ii == 0:\n",
    "        axarr[ii, 0].set_title(\"Approximation coefficients\", fontsize=14)\n",
    "        axarr[ii, 1].set_title(\"Detail coefficients\", fontsize=14)\n",
    "    axarr[ii, 1].set_yticklabels([])\n",
    "plt.tight_layout()\n",
    "plt.show()"
   ]
  },
  {
   "cell_type": "code",
   "execution_count": null,
   "metadata": {},
   "outputs": [],
   "source": [
    "def get_ave_values(xvalues, yvalues, n = 5):\n",
    "    signal_length = len(xvalues)\n",
    "    if signal_length % n == 0:\n",
    "        padding_length = 0\n",
    "    else:\n",
    "        padding_length = n - signal_length//n % n\n",
    "    xarr = np.array(xvalues)\n",
    "    yarr = np.array(yvalues)\n",
    "    xarr.resize(signal_length//n, n)\n",
    "    yarr.resize(signal_length//n, n)\n",
    "    xarr_reshaped = xarr.reshape((-1,n))\n",
    "    yarr_reshaped = yarr.reshape((-1,n))\n",
    "    x_ave = xarr_reshaped[:,0]\n",
    "    y_ave = np.nanmean(yarr_reshaped, axis=1)\n",
    "    return x_ave, y_ave\n",
    "\n",
    "def plot_wavelet(time, signal, scales, \n",
    "                 #cmorB-C: where B and C are representing \n",
    "                 #the bandwidth frequency and center frequency, respectively (example: cmor1.5-1.0).\n",
    "                 waveletname = 'cmor1.5-1', \n",
    "                 cmap = plt.cm.seismic, \n",
    "                 title = 'Wavelet Transform (Power Spectrum) of signal', \n",
    "                 ylabel = 'Frequency (Hz)', \n",
    "                 xlabel = 'Time'):\n",
    "    \n",
    "    dt = time[1] - time[0]\n",
    "    [coefficients, frequencies] = pywt.cwt(signal, scales, waveletname, dt)\n",
    "    power = (abs(coefficients)) ** 2\n",
    "    period = 1. / frequencies\n",
    "    levels = [0.0625, 0.125, 0.25, 0.5, 1, 2, 4, 8]\n",
    "    contourlevels = np.log2(levels)\n",
    "    \n",
    "    fig, ax = plt.subplots(figsize=(15, 10))\n",
    "    im = ax.contourf(time, np.log2(period), np.log2(power), contourlevels, extend='both',cmap=cmap)\n",
    "    \n",
    "    ax.set_title(title, fontsize=20)\n",
    "    ax.set_ylabel(ylabel, fontsize=18)\n",
    "    ax.set_xlabel(xlabel, fontsize=18)\n",
    "    \n",
    "    yticks = 2**np.arange(np.ceil(np.log2(period.min())), np.ceil(np.log2(period.max())))\n",
    "    ax.set_yticks(np.log2(yticks))\n",
    "    ax.set_yticklabels(yticks)\n",
    "    ax.invert_yaxis()\n",
    "    ylim = ax.get_ylim()\n",
    "    ax.set_ylim(ylim[0], -1)\n",
    "    \n",
    "    cbar_ax = fig.add_axes([0.95, 0.5, 0.03, 0.25])\n",
    "    fig.colorbar(im, cax=cbar_ax, orientation=\"vertical\")\n",
    "    plt.show()\n",
    " \n",
    "def plot_signal_plus_average(time, signal, average_over = 5):\n",
    "    fig, ax = plt.subplots(figsize=(15, 3))\n",
    "    time_ave, signal_ave = get_ave_values(time, signal, average_over)\n",
    "    ax.plot(time, signal, label='signal')\n",
    "    ax.plot(time_ave, signal_ave, label = 'time average (n={})'.format(5))\n",
    "    ax.set_xlim([time[0], time[-1]])\n",
    "    ax.set_ylabel('Signal Amplitude', fontsize=18)\n",
    "    ax.set_title('Signal + Time Average', fontsize=18)\n",
    "    ax.set_xlabel('Time', fontsize=18)\n",
    "    ax.legend()\n",
    "    plt.show()\n",
    "    \n",
    "def get_fft_values(y_values, T, N, f_s):\n",
    "    f_values = np.linspace(0.0, 1.0/(2.0*T), N//2)\n",
    "    fft_values_ = fft(y_values)\n",
    "    fft_values = 2.0/N * np.abs(fft_values_[0:N//2])\n",
    "    return f_values, fft_values\n",
    " \n",
    "def plot_fft_plus_power(time, signal):\n",
    "    dt = time[1] - time[0]\n",
    "    N = len(signal)\n",
    "    fs = 1/dt\n",
    "    \n",
    "    fig, ax = plt.subplots(figsize=(15, 3))\n",
    "    variance = np.std(signal)**2\n",
    "    f_values, fft_values = get_fft_values(signal, dt, N, fs)\n",
    "    fft_power = variance * abs(fft_values) ** 2     # FFT power spectrum\n",
    "    ax.plot(f_values, fft_values, 'r-', label='Fourier Transform')\n",
    "    ax.plot(f_values, fft_power, 'k--', linewidth=1, label='FFT Power Spectrum')\n",
    "    ax.set_xlabel('Frequency [Hz / year]', fontsize=18)\n",
    "    ax.set_ylabel('Amplitude', fontsize=18)\n",
    "    ax.legend()\n",
    "    plt.show()\n",
    " \n",
    "    \n",
    "tend=319;\n",
    "N = tend\n",
    "t0=0\n",
    "dt=0.25\n",
    "time = np.arange(0, N) * dt + t0\n",
    "signal = data_f[0:tend]\n",
    " \n",
    "scales = np.arange(1, 1000)\n",
    "plot_signal_plus_average(time, signal)\n",
    "plot_fft_plus_power(time, signal)\n",
    "plot_wavelet(time, signal, scales)"
   ]
  },
  {
   "cell_type": "code",
   "execution_count": null,
   "metadata": {},
   "outputs": [],
   "source": [
    "from pywt import wavedec\n",
    "\n",
    "# number of levels we are interested in\n",
    "level = 5\n",
    "\n",
    "# transpose the data because its a time-series package\n",
    "#data_t = filt_data1.transpose()\n",
    "data_t = data_f\n",
    "# get the wavelet coefficients at each level in a list\n",
    "coeffs_list = wavedec(data_t, wavelet='db4', level=level)\n",
    "\n",
    "print(type(coeffs_list))\n",
    "print(color.BOLD+color.UNDERLINE+'\\nExample first array'+color.END)\n",
    "coeffs_list[0]\n",
    "\n",
    "coeffs_list = wavedec(data_t, wavelet='db4', level=level)\n",
    "cA2, cD2, cD1 = coeffs"
   ]
  },
  {
   "cell_type": "code",
   "execution_count": null,
   "metadata": {
    "scrolled": true
   },
   "outputs": [],
   "source": [
    "np.shape(coeffs_list)"
   ]
  },
  {
   "cell_type": "markdown",
   "metadata": {
    "colab_type": "text",
    "id": "EtB8gtZN9-mu"
   },
   "source": [
    "Lets make a list of the names of the coefficients (the name of each array in the list)."
   ]
  },
  {
   "cell_type": "code",
   "execution_count": null,
   "metadata": {},
   "outputs": [],
   "source": [
    "# make a list of the component names (later column rows)\n",
    "nums = list(range(1,level+1))\n",
    "names=[]\n",
    "for num in nums:\n",
    "    names.append('D' + str(num))\n",
    "names.append('A' + str(nums[-1]))\n",
    "\n",
    "# reverse the names so it counts down\n",
    "names = names[::-1] \n",
    "\n",
    "names"
   ]
  },
  {
   "cell_type": "markdown",
   "metadata": {
    "colab_type": "text",
    "id": "BO_kucd7-DwM"
   },
   "source": [
    "Now lets turn the arrays into dataframes and use these names as the header."
   ]
  },
  {
   "cell_type": "code",
   "execution_count": null,
   "metadata": {},
   "outputs": [],
   "source": [
    "# make an empty dataframe\n",
    "wavelets = pd.DataFrame()\n",
    "\n",
    "# for each array in the list of arrays\n",
    "for i, array in enumerate(coeffs_list):\n",
    "    # turn into a dataframe and transpose\n",
    "    level_df = pd.DataFrame(array).T\n",
    "    # name the column the appropriate level name\n",
    "    level_df.columns = [names[i]]\n",
    "    # if the wavelets df is empty...\n",
    "    if wavelets.empty:\n",
    "        # ... make the first level df the wavelets df\n",
    "        wavelets = level_df\n",
    "    # ..otherwise...\n",
    "    else:\n",
    "        # ... add the next levels df to another column\n",
    "        wavelets = pd.concat([wavelets,level_df], axis=1)\n",
    "\n",
    "wavelets.head()"
   ]
  },
  {
   "cell_type": "markdown",
   "metadata": {
    "colab_type": "text",
    "id": "M7Dun1uD-SYE"
   },
   "source": [
    "You may be wondering what the difference is between the A and the D's. Well the A stands for the \"*approximation coefficient*\" and the D \"*detail coefficient*\". The detail coefficients come from high-pass filters applied to the data and approximation coefficients from the low-pass. A series of these filters are applied, each time the output of the low-pass filter is subsampled by 2 and further processed by passing it again through a new low-pass filter and a high-pass filter with half the cut-off frequency of the previous one. \n",
    "\n",
    "A discrete transform reduces the output so, although there are multipule approximation coefficient's during calculation, we only get the last one which for our purpose contains information about the rest of the frequencies below the ones covered by the detail coefficients.\n",
    "\n",
    "For EEG, really fast frequencies below 1Hz are not often used so we will just get rid of the A column for now."
   ]
  },
  {
   "cell_type": "code",
   "execution_count": null,
   "metadata": {},
   "outputs": [],
   "source": [
    "import re\n",
    "# remove the AN levels\n",
    "regex = re.compile('D')\n",
    "bad_items = [x for x in list(wavelets.columns) if not regex.match(x)]\n",
    "decom_wavelets = wavelets.drop(bad_items, axis=1)\n",
    "\n",
    "decom_wavelets.head()"
   ]
  },
  {
   "cell_type": "markdown",
   "metadata": {
    "colab_type": "text",
    "id": "gIbBXfp--Wwk"
   },
   "source": [
    "Lets take everything we have done so far and now put it in a function\n",
    "\n",
    "**NOTE**\n",
    "- for the purposes of visualisation I am going to trim the last datapoint off before running it through the function. This is so the number of data is even which makes things a lot easier."
   ]
  },
  {
   "cell_type": "code",
   "execution_count": null,
   "metadata": {},
   "outputs": [],
   "source": [
    "%%time\n",
    "\n",
    "def wavelet_decompose(data, output=False):\n",
    "    \n",
    "    # decompose data into coefficients\n",
    "    level = 6\n",
    "\n",
    "    # return the frequencies\n",
    "    frequencies = np.array([seiz_freq]*level)\n",
    "    j = [1<<exponent for exponent in range(level)]\n",
    "    frequencies = frequencies/j\n",
    "    \n",
    "    # transpose the data\n",
    "    data_t = data.transpose()\n",
    "    \n",
    "    # get the wavelet coefficients at each level in a list\n",
    "    coeffs_list = wavedec(data_t.values, wavelet='db4', level=level, mode='per')\n",
    "\n",
    "    # make a list of the component names (later column rows)\n",
    "    nums = list(range(1,level+1))\n",
    "    names=[]\n",
    "    for num in nums:\n",
    "        names.append('D' + str(num))\n",
    "    names.append('A' + str(nums[-1]))\n",
    "    \n",
    "    # reverse the names so it counts down\n",
    "    names = names[::-1] \n",
    "    \n",
    "    # make an empy dataframe\n",
    "    wavelets = pd.DataFrame()\n",
    "    \n",
    "    # for each array in the list of arrays\n",
    "    for i, array in enumerate(coeffs_list):\n",
    "        # turn into a dataframe and transpose\n",
    "        level_df = pd.DataFrame(array).T\n",
    "        # name the column the appropriate level name\n",
    "        level_df.columns = [names[i]]\n",
    "        # if the wavelets df is empty...\n",
    "        if wavelets.empty:\n",
    "            # ... make the first level df the wavelets df\n",
    "            wavelets = level_df\n",
    "        # ..otherwise...\n",
    "        else:\n",
    "            # ... add the next levels df to another column\n",
    "            wavelets = pd.concat([wavelets,level_df], axis=1)\n",
    "    \n",
    "    # remove the AN levels\n",
    "    regex = re.compile('D')\n",
    "    bad_items = [x for x in list(wavelets.columns) if not regex.match(x)]\n",
    "    decom_wavelets = wavelets.drop(bad_items, axis=1)\n",
    "    \n",
    "    if output:\n",
    "        display(decom_wavelets.head())\n",
    "    \n",
    "    return decom_wavelets, frequencies\n",
    "\n",
    "print(color.BOLD+color.UNDERLINE+'Baseline Wavelets'+color.END)\n",
    "baseline_wavelets, frequencies = wavelet_decompose(baseline_df.iloc[:-1], output=True)\n",
    "print()\n",
    "print(color.BOLD+color.UNDERLINE+'Seizure Wavelets'+color.END)\n",
    "seizure_wavelets, frequencies = wavelet_decompose(seizure_df.iloc[:-1], output=True)"
   ]
  },
  {
   "cell_type": "markdown",
   "metadata": {
    "colab_type": "text",
    "id": "8FqS3fklLCFc"
   },
   "source": [
    "Before moving on, lets have a look at a visual representation of the above data using a scalogram. A scalagram is the absolute value of the output of a wavelet transform. It is similar to the spectogram we saw before.\n",
    "\n",
    "**NOTES**\n",
    "- These are typically more associated with continuous wavelet transforms where they provide \"*...better time localization for short-duration, high-frequency events, and better frequency localization for low-frequency, longer-duration events [than spectrograms]*\"<sup>1</sup>\n",
    "\n",
    "---\n",
    "1. https://uk.mathworks.com/help/signal/ug/scalogram-computation-in-signal-analyzer.html"
   ]
  },
  {
   "cell_type": "code",
   "execution_count": null,
   "metadata": {},
   "outputs": [],
   "source": [
    "import seaborn as sns\n",
    "\n",
    "def plot_dwt_scalogram(signal, wt_data, frequencies, interpolation, class_name):\n",
    "  \n",
    "  cmap = plt.cm.cool\n",
    "  x = range(len(signal))\n",
    "  \n",
    "  # Show signal and wavelet packet coefficients\n",
    "  fig, (sig_ax, spec_ax) = plt.subplots(2)\n",
    "  fig.subplots_adjust(hspace=0.5, bottom=.03, left=.07, right=.97, top=.92)\n",
    "  \n",
    "  # plot the signal\n",
    "  sig_ax.set_title(class_name + \" Signal\")\n",
    "  sig_ax.plot(x, signal, 'b')\n",
    "  sig_ax.set_xlim(0, x[-1])\n",
    "\n",
    "  exponent_list = [2<<exponent for exponent in range(wt_data.shape[1]+1)]\n",
    "  wt_data_ = wt_data.copy()\n",
    "  for i, decom in enumerate(wt_data.sort_index(1).columns):\n",
    "    exponent_data = wt_data_[decom].dropna().repeat(exponent_list[i]).reset_index(drop=True)\n",
    "    if i == 0:\n",
    "      plot_data = pd.DataFrame(exponent_data.abs(), \n",
    "                               columns =[decom])\n",
    "    else:\n",
    "      plot_data = pd.concat([plot_data, pd.DataFrame(exponent_data.abs(), columns =[decom])], axis=1)\n",
    "  \n",
    "  # plot the spectrogram\n",
    "  cbar_ax = fig.add_axes([1, 0.05, 0.05, 0.3])\n",
    "  spec_ax.set_title(\"Wavelets\")\n",
    "  sns.heatmap(plot_data.T, ax=spec_ax, cmap=\"YlGnBu\", cbar_ax=cbar_ax, \n",
    "              cbar_kws={\"ticks\":[]}\n",
    "              )\n",
    "  \n",
    "  plt.show()\n",
    "  print(frequencies)\n",
    "\n",
    "#plot_dwt_scalogram(seizure_df, \n",
    "           #    seizure_wavelets, \n",
    "           #    frequencies, None, 'Seizure')\n",
    "\n",
    "plot_dwt_scalogram(filt_data1, \n",
    "               baseline_wavelets, \n",
    "               frequencies, None, 'Baseline')"
   ]
  },
  {
   "cell_type": "code",
   "execution_count": null,
   "metadata": {},
   "outputs": [],
   "source": []
  },
  {
   "cell_type": "markdown",
   "metadata": {
    "colab_type": "text",
    "id": "rQwJFvhxZJHM"
   },
   "source": [
    "# Machine learning\n",
    "## features \n",
    "Now lets get the data as a pandas dataframe and have a quick reminder of its structure.\n",
    "\n",
    "This dataset has only one signal that was divided into multipule datasets lasting 23.6 seconds each. Each dataset was associated with a class and had features extracted from it. These briefly were:\n",
    "\n",
    "**Welch**\n",
    "\n",
    "The Welch method is a spectral density estimation method that calculates a periodogram for windowed sections of data using a Fourier Transform. Overlapping segments are windowed with a discrete Fourier tranform applied to calculate the periodogram which is then squared and averaged to get a power measure.\n",
    "- *power_delta*: Average power between 0.1hz and 4hz \n",
    "- *power_theta*: Average power between 4hz and 8hz \n",
    "- *power_alpha*: Average power between 8hz and 12hz \n",
    "- *power_beta*: Average power between 12hz and 30hz \n",
    "- *power_gamma*: Average power between 30hz and 70hz \n",
    "\n",
    "**Discrete Wavelet Transform**\n",
    "\n",
    "Several oscillatory kernel-based wavelets are stretched and moved to different positions in time across a signal, dividing the data into different frequency components which are each analysed in respect to their scale.\n",
    "- *LSWT*: The log-sum energy of the subband coefficients\n",
    "- *mean*: Average power of the wavelet coefficients in each sub-band\n",
    "- *mean_abs*: Mean of the absolute values of the coefficients in each sub-band\n",
    "- *std*: Standard deviation of the coefficients in each sub-band\n",
    "- *Ratio*: Ratio of the absolute mean values of adjacent sub-bands\n",
    "\n",
    "If you want more specific detail on these features then I recommend you look at the tutorial associated with the feature extraction."
   ]
  },
  {
   "cell_type": "code",
   "execution_count": null,
   "metadata": {},
   "outputs": [],
   "source": []
  },
  {
   "cell_type": "code",
   "execution_count": null,
   "metadata": {},
   "outputs": [],
   "source": []
  },
  {
   "cell_type": "markdown",
   "metadata": {},
   "source": [
    "# feature extraction "
   ]
  },
  {
   "cell_type": "code",
   "execution_count": null,
   "metadata": {
    "id": "796f2d07"
   },
   "outputs": [],
   "source": [
    "import numpy as np\n",
    "import pandas as pd\n",
    "import datetime as dt\n",
    "\n",
    "from scipy.signal import welch\n",
    "from scipy.signal import savgol_filter\n",
    "import matplotlib.pyplot as plt\n",
    "\n",
    "from scipy.fftpack import fft\n",
    "\n",
    "from siml.detect_peaks import detect_peaks\n",
    "\n",
    "def get_values(y_values, T, N, f_s):\n",
    "    y_values = y_values\n",
    "    x_values = [(1/f_s) * kk for kk in range(0,len(y_values))]\n",
    "    return x_values, y_values\n",
    "\n",
    "def get_fft_values(y_values, T, N, f_s):\n",
    "    f_values = np.linspace(0.0, 1.0/(2.0*T), N//2)\n",
    "    fft_values_ = fft(y_values)\n",
    "    fft_values = 2.0/N * np.abs(fft_values_[0:N//2])\n",
    "    return f_values, fft_values\n",
    "\n",
    "def get_psd_values(y_values, T, N, f_s):\n",
    "    f_values, psd_values = welch(y_values, fs=f_s)\n",
    "    return f_values, psd_values\n",
    "\n",
    "def autocorr(x):\n",
    "    result = np.correlate(x, x, mode='full')\n",
    "    return result[len(result)//2:]\n",
    " \n",
    "def get_autocorr_values(y_values, T, N, f_s):\n",
    "    autocorr_values = autocorr(y_values)\n",
    "    x_values = np.array([T * jj for jj in range(0, N)])\n",
    "    return x_values, autocorr_values\n",
    "    \n",
    "def get_first_n_peaks(x,y,no_peaks=5):\n",
    "    x_, y_ = list(x), list(y)\n",
    "    if len(x_) >= no_peaks:\n",
    "        return x_[:no_peaks], y_[:no_peaks]\n",
    "    else:\n",
    "        missing_no_peaks = no_peaks-len(x_)\n",
    "        return x_ + [0]*missing_no_peaks, y_ + [0]*missing_no_peaks\n",
    "    \n",
    "def get_features(x_values, y_values, mph):\n",
    "    indices_peaks = detect_peaks(y_values, mph=mph)\n",
    "    peaks_x, peaks_y = get_first_n_peaks(x_values[indices_peaks], y_values[indices_peaks])\n",
    "    return peaks_x + peaks_y\n",
    " \n",
    "def extract_features_labels(dataset, labels, T, N, f_s, denominator):\n",
    "    percentile = 5\n",
    "    list_of_features = []\n",
    "    list_of_labels = []\n",
    "    for signal_no in range(0, len(dataset)):\n",
    "        features = []\n",
    "        list_of_labels.append(labels[signal_no])\n",
    "        for signal_comp in range(0,dataset.shape[2]):\n",
    "            signal = dataset[signal_no, :, signal_comp]\n",
    "            \n",
    "            signal_min = np.nanpercentile(signal, percentile)\n",
    "            signal_max = np.nanpercentile(signal, 100-percentile)\n",
    "            #ijk = (100 - 2*percentile)/10\n",
    "            mph = signal_min + (signal_max - signal_min)/denominator\n",
    "            \n",
    "            features += get_features(*get_psd_values(signal, T, N, f_s), mph)\n",
    "            features += get_features(*get_fft_values(signal, T, N, f_s), mph)\n",
    "            features += get_features(*get_autocorr_values(signal, T, N, f_s), mph)\n",
    "        list_of_features.append(features)\n",
    "    return np.array(list_of_features), np.array(list_of_labels)\n",
    "\n",
    "def plot_yvalues(ax, xvalues, yvalues, plot_original=True, polydeg=2):\n",
    "    z2 = np.polyfit(xvalues, yvalues, polydeg)\n",
    "    p2 = np.poly1d(z2)\n",
    "    yvalues_trend = p2(xvalues)\n",
    "    yvalues_detrended = yvalues - yvalues_trend\n",
    "    ax.plot(xvalues, yvalues_detrended,  color='green', label='detrended')\n",
    "    ax.plot(xvalues, yvalues_trend, linestyle='--', color='k', label='trend')\n",
    "    if plot_original:\n",
    "        ax.plot(xvalues, yvalues, color='skyblue',label='original')\n",
    "    ax.legend(loc='upper left', bbox_to_anchor=(-0.09, 1.078),framealpha=1)\n",
    "    ax.set_yticks([])\n",
    "    return yvalues_detrended\n",
    "\n",
    "def plot_fft_psd(ax, yvalues_detrended, plot_psd=True, annotate_peaks=True, max_peak=0.5):\n",
    "    assert max_peak > 0 and max_peak <= 1, \"max_peak should be between 0 and 1\"\n",
    "    fft_x_ = np.fft.fftfreq(len(yvalues_detrended))\n",
    "    fft_y_  = np.fft.fft(yvalues_detrended);\n",
    "    fft_x = fft_x_[:len(fft_x_)//2]\n",
    "    fft_y = np.abs(fft_y_[:len(fft_y_)//2])\n",
    "    psd_x, psd_y = welch(yvalues_detrended)\n",
    "    \n",
    "    mph = np.nanmax(fft_y)*max_peak\n",
    "    indices_peaks = detect_peaks(fft_y, mph=mph)\n",
    "    peak_fft_x, peak_fft_y = fft_x[indices_peaks], fft_y[indices_peaks]\n",
    "    \n",
    "    ax.plot(fft_x, fft_y, label='FFT')\n",
    "    if plot_psd:\n",
    "        axb = ax.twinx()\n",
    "        axb.plot(psd_x, psd_y, color='red',linestyle='--', label='PSD')\n",
    "    if annotate_peaks:\n",
    "        for ii in range(len(indices_peaks)):\n",
    "            x, y = peak_fft_x[ii], peak_fft_y[ii]\n",
    "            T = 1/x\n",
    "            text = \"  f = {:.2f}\\n  T = {:.2f}\".format(x,T)\n",
    "            ax.annotate(text, (x,y),va='top')\n",
    "    \n",
    "    lines, labels = ax.get_legend_handles_labels()\n",
    "    linesb, labelsb = axb.get_legend_handles_labels()\n",
    "    ax.legend(lines + linesb, labels + labelsb, loc='upper left')\n",
    "    \n",
    "    ax.set_yticks([])\n",
    "    axb.set_yticks([])\n",
    "    return fft_x_, fft_y_\n",
    "\n",
    "def plot_predicted(ax, yvalues_train, yvalues_test, no_harmonics='all', deg_polyfit=2):\n",
    "    predicted = reconstruct_from_fft(yvalues_train, no_harmonics=no_harmonics, deg_polyfit=deg_polyfit, additional_samples=len(yvalues_test))\n",
    "    predicted = predicted_all[len(yvalues_train):]\n",
    "    no_harmonics_75 = int(0.25*len(yvalues_train))\n",
    "    no_harmonics_50 = int(0.15*len(yvalues_train))\n",
    "    predicted_75 = reconstruct_from_fft(yvalues_train, no_harmonics=no_harmonics_75, deg_polyfit=deg_polyfit, additional_samples=len(yvalues_test))\n",
    "    predicted_75 = predicted_75[len(yvalues_train):]\n",
    "    predicted_50 = reconstruct_from_fft(yvalues_train, no_harmonics=no_harmonics_50, deg_polyfit=deg_polyfit, additional_samples=len(yvalues_test))\n",
    "    predicted_50 = predicted_50[len(yvalues_train):]\n",
    "    ax.plot(yvalues_test, label='true yvalues', linewidth=2)\n",
    "    ax.plot(predicted_all, label='predicted (all harmonics)')\n",
    "    ax.plot(predicted_75, label='predicted ({} harmonics)'.format(no_harmonics_75))\n",
    "    ax.plot(predicted_50, label='predicted ({} harmonics)'.format(no_harmonics_50))\n",
    "    ax.set_yticks([])\n",
    "    ax.legend(loc='upper left', bbox_to_anchor=(1.01, 1.078))\n",
    "    \n",
    "def fill_missing_dates(df__, datecol='date'):\n",
    "    df__.index = df__[datecol].values\n",
    "    \n",
    "    start = str(df__[datecol].min())\n",
    "    end = str(df__[datecol].max())\n",
    "    missing_indices = pd.date_range(start=start, end=end, freq='D').difference(df__[datecol])\n",
    "    df_extra = pd.DataFrame(columns=df__.columns, index=missing_indices)\n",
    "    df_extra.loc[:,datecol] = df_extra.index.values\n",
    "    df_extra.loc[:,datecol] = df_extra[datecol].apply(lambda x: x.date())\n",
    "    df_extra.index = df_extra[datecol].values\n",
    "\n",
    "    df__ = df__.append(df_extra).sort_values([datecol]).reset_index()\n",
    "    df__ = df__.fillna(0)\n",
    "    return df__\n",
    "\n",
    "def construct_fft(yvalues, deg_polyfit, real_abs_only=True):\n",
    "    N = len(yvalues)\n",
    "    xvalues = np.arange(N)\n",
    "    \n",
    "    # we calculate the trendline and detrended signal with polyfit\n",
    "    z2 = np.polyfit(xvalues, yvalues, deg_polyfit)\n",
    "    p2 = np.poly1d(z2)\n",
    "    yvalues_trend = p2(xvalues)\n",
    "    yvalues_detrended = yvalues - yvalues_trend\n",
    "    \n",
    "    # The fourier transform and the corresponding frequencies\n",
    "    fft_y = np.fft.fft(yvalues_detrended)\n",
    "    fft_x = np.fft.fftfreq(N)\n",
    "    if real_abs_only:\n",
    "        fft_x = fft_x[:len(fft_x)//2]\n",
    "        fft_y = np.abs(fft_y[:len(fft_y)//2])\n",
    "    return fft_x, fft_y, p2\n",
    "\n",
    "def get_integer_no_of_periods(yvalues, fft_x, fft_y, frac=1.0, mph=0.4):\n",
    "    N = len(yvalues)\n",
    "    fft_y_real = np.abs(fft_y[:len(fft_y)//2])\n",
    "    fft_x_real = fft_x[:len(fft_x)//2]\n",
    "    \n",
    "    mph = np.nanmax(fft_y_real)*mph\n",
    "    indices_peaks = detect_peaks(fft_y_real, mph=mph)\n",
    "    peak_fft_x = fft_x_real[indices_peaks]\n",
    "    main_peak_x = peak_fft_x[0]\n",
    "    T = int(1/main_peak_x)\n",
    "    \n",
    "    no_integer_periods_all = N//T\n",
    "    no_integer_periods_frac = int(frac*no_integer_periods_all)\n",
    "    no_samples = T*no_integer_periods_frac\n",
    "    \n",
    "    yvalues_ = yvalues[-no_samples:]\n",
    "    xvalues_ = np.arange(len(yvalues))\n",
    "    return xvalues_, yvalues_\n",
    "\n",
    "def restore_signal_from_fft(fft_x, fft_y, N, extrapolate_with, frac_harmonics):\n",
    "    xvalues_full = np.arange(0, N + extrapolate_with)\n",
    "    restored_sig = np.zeros(N + extrapolate_with)\n",
    "    indices = list(range(N))\n",
    "    \n",
    "    # The number of harmonics we want to include in the reconstruction\n",
    "    indices.sort(key = lambda i: np.absolute(fft_x[i]))\n",
    "    max_no_harmonics = len(fft_y)\n",
    "    no_harmonics = int(frac_harmonics*max_no_harmonics)\n",
    "        \n",
    "    for i in indices[:1 + no_harmonics * 2]:\n",
    "        ampli = np.absolute(fft_y[i]) / N\n",
    "        phase = np.angle(fft_y[i])\n",
    "        restored_sig += ampli * np.cos(2 * np.pi * fft_x[i] * xvalues_full + phase)\n",
    "    # return the restored signal plus the previously calculated trend\n",
    "    return restored_sig\n",
    "\n",
    "def reconstruct_from_fft(yvalues, \n",
    "                         frac_harmonics=1.0, \n",
    "                         deg_polyfit=2, \n",
    "                         extrapolate_with=0, \n",
    "                         fraction_signal = 1.0,\n",
    "                         mph = 0.4):\n",
    "    N_original = len(yvalues)\n",
    "    \n",
    "    fft_x, fft_y, p2 = construct_fft(yvalues, deg_polyfit, real_abs_only=False)\n",
    "    xvalues, yvalues = get_integer_no_of_periods(yvalues, fft_x, fft_y, frac=fraction_signal, mph=mph)\n",
    "    fft_x, fft_y, p2 = construct_fft(yvalues, deg_polyfit, real_abs_only=False)\n",
    "    N = len(yvalues)\n",
    "\n",
    "    xvalues_full = np.arange(0, N + extrapolate_with)\n",
    "    restored_sig = restore_signal_from_fft(fft_x, fft_y, N, extrapolate_with, frac_harmonics)\n",
    "    restored_sig = restored_sig + p2(xvalues_full)\n",
    "    return restored_sig[-extrapolate_with:]"
   ]
  },
  {
   "cell_type": "code",
   "execution_count": null,
   "metadata": {},
   "outputs": [],
   "source": []
  },
  {
   "cell_type": "code",
   "execution_count": null,
   "metadata": {
    "id": "58d9fba5"
   },
   "outputs": [],
   "source": [
    "from sklearn import preprocessing\n",
    "data_normalized=preprocessing.normalize(data_corrected)\n",
    "\n",
    "############SVM\n",
    "from sklearn.model_selection import train_test_split\n",
    "from sklearn.metrics import accuracy_score\n",
    "from sklearn.model_selection import GridSearchCV\n",
    "from sklearn import svm\n",
    "import itertools\n",
    "# Variables \n",
    "X_train = []\n",
    "y_train = []\n",
    "X_val = []\n",
    "y_val = []\n",
    "X_test = []\n",
    "y_test = []\n",
    "C = []\n",
    "target_names = []\n",
    "gamma = [10**-11, 10**-9, 10**-7, 10**-5, 10**-3, 10**-1, 10]\n",
    "test_size=0.3\n",
    "validation_size=0.2\n",
    "X=data_normalized.T\n",
    "y=Y\n",
    "# Split dataset into training and test set\n",
    "X_train, X_test, y_train, y_test = train_test_split(X, y, test_size=test_size, random_state=None)\n",
    "# Split training set into training and validation set\n",
    "X_train, X_val, y_train, y_val = train_test_split(X_train, y_train, test_size=validation_size, random_state=None)\n",
    "\n",
    "###########  Create and train the model #############\n",
    "# Create an SVM model by setting C and gamma if they\n",
    "# are received as input variables. Then it trains the\n",
    "# model with the received X_train and y_train \n",
    "#\n",
    "# Returns the trained model \n",
    "#\n",
    "#####################################################\n",
    "def train(X_train, y_train, kernel, c, gamma=None):\n",
    "\t#create the model with the specified kernel and gamma \n",
    "\tif gamma == None:\n",
    "\t\tmodel = svm.SVC(kernel=kernel, C=c)\n",
    "\telse:\n",
    "\t\tmodel = svm.SVC(kernel=kernel, C=c, gamma=gamma)\n",
    "\t#train the model \n",
    "\tmodel.fit(X_train, y_train)\n",
    "\t\n",
    "\treturn model \n",
    "\t \n",
    "\n",
    "################  Test the model  ###################\n",
    "# Receives the trained model, the X_test dataset and \n",
    "# its labels. Make a prediction on the model and \n",
    "# compute and print the accuracy. \n",
    "#\n",
    "# Returns the accuracy\n",
    "# \n",
    "#####################################################\n",
    "def test_model(model, X_test, y_test):\n",
    "\t# Make a prediction on the test set\n",
    "\ttest_predictions = model.predict(X_test)\n",
    "\ttest_predictions = np.round(test_predictions)\n",
    "\t# Report the accuracy of that prediction \n",
    "\taccuracy = accuracy_score(y_test, test_predictions)\n",
    "\n",
    "\treturn accuracy "
   ]
  },
  {
   "cell_type": "code",
   "execution_count": null,
   "metadata": {
    "id": "189421eb"
   },
   "outputs": [],
   "source": []
  },
  {
   "cell_type": "markdown",
   "metadata": {
    "id": "f2520a8d"
   },
   "source": [
    "   "
   ]
  },
  {
   "cell_type": "markdown",
   "metadata": {
    "id": "37eb32d3"
   },
   "source": [
    " ---"
   ]
  },
  {
   "cell_type": "markdown",
   "metadata": {
    "id": "82eb466c"
   },
   "source": [
    "## Follow-up Questions"
   ]
  },
  {
   "cell_type": "markdown",
   "metadata": {
    "id": "b92397ae"
   },
   "source": [
    "__Q1:__ Because you only have a short amount of time for this assignment, you obviously do not have time for many things: deep exploration of the data, various pre-processing aspects, substantial model tuning, etc. What additional methods would you like to have had time to explore that might improve your results?"
   ]
  },
  {
   "cell_type": "code",
   "execution_count": null,
   "metadata": {
    "id": "71d4d855"
   },
   "outputs": [],
   "source": []
  },
  {
   "cell_type": "markdown",
   "metadata": {
    "id": "9007f424"
   },
   "source": [
    "__Q2:__ Is there additional information about the training data that you wish you had that would have assisted in developing/optimizing the classifier?"
   ]
  },
  {
   "cell_type": "code",
   "execution_count": null,
   "metadata": {
    "id": "612d1e6c"
   },
   "outputs": [],
   "source": []
  },
  {
   "cell_type": "markdown",
   "metadata": {
    "id": "3a9d13ca"
   },
   "source": [
    "__Q3:__ If you chose to segment the data into smaller windows of time than the entire 10 minute file segment, why did you chose the window size that you did?"
   ]
  },
  {
   "cell_type": "code",
   "execution_count": null,
   "metadata": {
    "id": "db415e23"
   },
   "outputs": [],
   "source": []
  },
  {
   "cell_type": "markdown",
   "metadata": {
    "id": "50903c6e"
   },
   "source": [
    "__Q4:__ Did you use all of the training data files in your development of the algorithm? Why or why not?"
   ]
  },
  {
   "cell_type": "code",
   "execution_count": null,
   "metadata": {
    "id": "99436369"
   },
   "outputs": [],
   "source": []
  },
  {
   "cell_type": "markdown",
   "metadata": {
    "id": "60ef3cdc"
   },
   "source": [
    "__Q5:__ Did you need to do anything specific to handle the fact that the data came from different patients in different hospitals?"
   ]
  },
  {
   "cell_type": "code",
   "execution_count": null,
   "metadata": {
    "id": "c0edfafa"
   },
   "outputs": [],
   "source": []
  },
  {
   "cell_type": "markdown",
   "metadata": {
    "id": "f8b746fb"
   },
   "source": [
    "__Q6:__ It is well-known that seizures \"evolve\" over time, potentially for many minutes before the noted time of the seizure. If we provided you hour-long files instead of the short ten-minute files, with all seizures happening at least 30 minutes from the start of the file, would you consider designing the classifier differently, and if so, how so? Please be specific."
   ]
  },
  {
   "cell_type": "code",
   "execution_count": null,
   "metadata": {
    "id": "bb9f5ded"
   },
   "outputs": [],
   "source": []
  },
  {
   "cell_type": "markdown",
   "metadata": {
    "id": "01d73d3d"
   },
   "source": [
    "__Q7:__ You were not provided a separate held-out test data set. Please discuss your expectations for your algorithm if a separate test data set was provided, taken from the same patient population as the training data. E.g., Would there be any bias/variance concerns for held-out data that was not handled in the classifier development/training?"
   ]
  },
  {
   "cell_type": "code",
   "execution_count": null,
   "metadata": {
    "id": "b345d115"
   },
   "outputs": [],
   "source": []
  },
  {
   "cell_type": "markdown",
   "metadata": {
    "id": "50816a9b"
   },
   "source": [
    "__Q8:__ Would you have any concerns if your trained algorithm was applied to data from patients wearing the sensor in their everyday at-home environment?"
   ]
  },
  {
   "cell_type": "code",
   "execution_count": null,
   "metadata": {
    "id": "28bceaa6"
   },
   "outputs": [],
   "source": []
  }
 ],
 "metadata": {
  "colab": {
   "collapsed_sections": [],
   "name": "Epitel_Algorithm_Challenge_Classifier.ipynb",
   "provenance": []
  },
  "kernelspec": {
   "display_name": "Python 3",
   "language": "python",
   "name": "python3"
  },
  "language_info": {
   "codemirror_mode": {
    "name": "ipython",
    "version": 3
   },
   "file_extension": ".py",
   "mimetype": "text/x-python",
   "name": "python",
   "nbconvert_exporter": "python",
   "pygments_lexer": "ipython3",
   "version": "3.7.3"
  }
 },
 "nbformat": 4,
 "nbformat_minor": 5
}
